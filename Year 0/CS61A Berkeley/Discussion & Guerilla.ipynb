{
 "cells": [
  {
   "cell_type": "markdown",
   "metadata": {},
   "source": [
    "Discussion 01: Control, Environment Diagrams"
   ]
  },
  {
   "cell_type": "code",
   "execution_count": null,
   "metadata": {},
   "outputs": [],
   "source": [
    "def wears_jacket_with_if(temp, raining):\n",
    "    \"\"\"\n",
    "    >>> wears_jacket_with_if(90, False)\n",
    "    False\n",
    "    >>> wears_jacket_with_if(40, False)\n",
    "    True\n",
    "    >>> wears_jacket_with_if(100, True)\n",
    "    True\n",
    "    \"\"\"\n",
    "    return temp < 60 or raining\n",
    "\n",
    "import doctest\n",
    "doctest.testmod()"
   ]
  },
  {
   "cell_type": "code",
   "execution_count": null,
   "metadata": {},
   "outputs": [],
   "source": [
    "def is_prime(n):\n",
    "    \"\"\"\n",
    "    >>> is_prime(10)\n",
    "    False\n",
    "    >>> is_prime(7)\n",
    "    True\n",
    "    >>> is_prime(36)\n",
    "    False\n",
    "    >>> is_prime(31)\n",
    "    True\n",
    "    \"\"\"\n",
    "    i = 2 \n",
    "    while i <= n ** 0.5:\n",
    "        if n % i == 0:\n",
    "            return False\n",
    "        i += 1\n",
    "    return True\n",
    "\n",
    "import doctest\n",
    "doctest.testmod()"
   ]
  },
  {
   "cell_type": "markdown",
   "metadata": {},
   "source": [
    "Discussion 02: Higher-Order Functions, Self Reference"
   ]
  },
  {
   "cell_type": "code",
   "execution_count": null,
   "metadata": {},
   "outputs": [],
   "source": [
    "curry2 = lambda h: lambda x: lambda y: h(x, y)"
   ]
  },
  {
   "cell_type": "code",
   "execution_count": null,
   "metadata": {},
   "outputs": [],
   "source": [
    "def keep_ints(cond, n):\n",
    "    \"\"\"Print out all integers 1..i..n where cond(i) is true\n",
    "    >>> def is_even(x):\n",
    "    ... # Even numbers have remainder 0 when divided by 2.\n",
    "    ...     return x % 2 == 0\n",
    "    >>> keep_ints(is_even, 5)\n",
    "    2\n",
    "    4\n",
    "    \"\"\"\n",
    "    i = 1\n",
    "    while i <= n:\n",
    "        if cond(i):\n",
    "            print(i)\n",
    "        i += 1\n",
    "\n",
    "import doctest\n",
    "doctest.testmod()"
   ]
  },
  {
   "cell_type": "code",
   "execution_count": null,
   "metadata": {},
   "outputs": [],
   "source": [
    "def make_keeper(n):\n",
    "    \"\"\"Returns a function which takes one parameter cond and prints out\n",
    "    all integers 1..i..n where calling cond(i) returns True.\n",
    "    >>> def is_even(x):\n",
    "    ... # Even numbers have remainder 0 when divided by 2.\n",
    "    ...     return x % 2 == 0\n",
    "    >>> make_keeper(5)(is_even)\n",
    "    2\n",
    "    4\n",
    "    \"\"\"\n",
    "    def f(cond):\n",
    "        i = 1\n",
    "        while i <= n:\n",
    "            if cond(i):\n",
    "                print(i)\n",
    "            i += 1\n",
    "    return f\n",
    "\n",
    "import doctest\n",
    "doctest.testmod()"
   ]
  },
  {
   "cell_type": "code",
   "execution_count": null,
   "metadata": {},
   "outputs": [],
   "source": [
    "def print_delayed(x):\n",
    "    \"\"\"Return a new function. This new function, when called,\n",
    "    will print out x and return another function with the same\n",
    "    behavior.\n",
    "    >>> f = print_delayed(1)\n",
    "    >>> f = f(2)\n",
    "    1\n",
    "    >>> f = f(3)\n",
    "    2\n",
    "    >>> f = f(4)(5)\n",
    "    3\n",
    "    4\n",
    "    >>> f(\"hi\")\n",
    "    5\n",
    "    <function print_delayed> # a function is returned\n",
    "    \"\"\"\n",
    "    def delay_print(y):\n",
    "        print(x)\n",
    "        return print_delayed(y)\n",
    "    return delay_print"
   ]
  },
  {
   "cell_type": "code",
   "execution_count": null,
   "metadata": {},
   "outputs": [],
   "source": [
    "def print_n(n):\n",
    "    \"\"\"\n",
    "    >>> f = print_n(2)\n",
    "    >>> f = f(\"hi\")\n",
    "    hi\n",
    "    >>> f = f(\"hello\")\n",
    "    hello\n",
    "    >>> f = f(\"bye\")\n",
    "    done\n",
    "    >>> g = print_n(1)\n",
    "    >>> g(\"first\")(\"second\")(\"third\")\n",
    "    first\n",
    "    done\n",
    "    done\n",
    "    <function inner_print>\n",
    "    \"\"\"\n",
    "    def inner_print(x):\n",
    "        if n < 1:\n",
    "            print(\"done\")\n",
    "        else:\n",
    "            print(x)\n",
    "        return print_n(n - 1)\n",
    "    return inner_print"
   ]
  },
  {
   "cell_type": "markdown",
   "metadata": {},
   "source": [
    "Guerilla 00: Higher-Order Functions, Environment Diagrams, Control"
   ]
  },
  {
   "cell_type": "code",
   "execution_count": null,
   "metadata": {},
   "outputs": [],
   "source": [
    "def count_digits(n):\n",
    "    '''\n",
    "    >>> count_digits(4)\n",
    "    1\n",
    "    >>> count_digits(12345678)\n",
    "    8\n",
    "    >>> count_digits(0)\n",
    "    0\n",
    "    '''\n",
    "    digit = 0\n",
    "    while n > 0:\n",
    "        n = n // 10\n",
    "        digit += 1\n",
    "    return digit\n",
    "import doctest\n",
    "doctest.testmod()"
   ]
  },
  {
   "cell_type": "code",
   "execution_count": null,
   "metadata": {},
   "outputs": [],
   "source": [
    "def count_matches(n, m):\n",
    "    '''\n",
    "    >>> count_matches(10, 30)\n",
    "    1\n",
    "    >>> count_matches(12345, 23456)\n",
    "    0\n",
    "    >>> count_matches(121212, 123123)\n",
    "    2\n",
    "    >>> count_matches(111, 11) # only one's place matches\n",
    "    2\n",
    "    >>> count_matches(101, 10) # no place matches\n",
    "    0\n",
    "    '''\n",
    "    match = 0\n",
    "    while n > 0 and m > 0:\n",
    "        if n % 10 == m % 10:\n",
    "            match += 1\n",
    "        n, m = n // 10, m // 10\n",
    "    return match\n",
    "import doctest\n",
    "doctest.testmod()"
   ]
  },
  {
   "cell_type": "code",
   "execution_count": null,
   "metadata": {},
   "outputs": [],
   "source": [
    "def pow(x, y):\n",
    "    return x ** y\n",
    "\n",
    "foo = lambda x: lambda y: lambda z: x + y * z"
   ]
  },
  {
   "cell_type": "code",
   "execution_count": null,
   "metadata": {},
   "outputs": [],
   "source": [
    "def make_skipper(n):\n",
    "    \"\"\"\n",
    "    >>> a = make_skipper(2)\n",
    "    >>> a(5)\n",
    "    1\n",
    "    3\n",
    "    5\n",
    "    \"\"\"\n",
    "    def f(x):\n",
    "        i = 1\n",
    "        while i <= x:\n",
    "            print(i)\n",
    "            i += n\n",
    "    return f\n",
    "import doctest\n",
    "doctest.testmod()"
   ]
  },
  {
   "cell_type": "code",
   "execution_count": null,
   "metadata": {},
   "outputs": [],
   "source": [
    "def ordered_digits(x):\n",
    "    '''\n",
    "    >>> ordered_digits(5)\n",
    "    True\n",
    "    >>> ordered_digits(11)\n",
    "    True\n",
    "    >>> ordered_digits(127)\n",
    "    True\n",
    "    >>> ordered_digits(1357)\n",
    "    True\n",
    "    >>> ordered_digits(21)\n",
    "    False\n",
    "    >>> result = ordered_digits(1375) # Return, don't print\n",
    "    >>> result\n",
    "    False\n",
    "    '''\n",
    "    while x > 0:\n",
    "        last, x = x % 10, x // 10\n",
    "        if last < x % 10:\n",
    "            return False\n",
    "    return True\n",
    "import doctest\n",
    "doctest.testmod()"
   ]
  },
  {
   "cell_type": "code",
   "execution_count": null,
   "metadata": {},
   "outputs": [],
   "source": [
    "def cycle(f1, f2, f3):\n",
    "    \"\"\"Returns a function that is itself a higher-order function.\n",
    "    >>> def add1(x):\n",
    "    ...     return x + 1\n",
    "    >>> def times2(x):\n",
    "    ...     return x * 2\n",
    "    >>> def add3(x):\n",
    "    ...     return x + 3\n",
    "    >>> my_cycle = cycle(add1, times2, add3)\n",
    "    >>> identity = my_cycle(0)\n",
    "    >>> identity(5)\n",
    "    5\n",
    "    >>> add_one_then_double = my_cycle(2)\n",
    "    >>> add_one_then_double(1)\n",
    "    4\n",
    "    >>> do_all_functions = my_cycle(3)\n",
    "    >>> do_all_functions(2)\n",
    "    9\n",
    "    >>> do_more_than_a_cycle = my_cycle(4)\n",
    "    >>> do_more_than_a_cycle(2)\n",
    "    10\n",
    "    >>> do_two_cycles = my_cycle(6)\n",
    "    >>> do_two_cycles(1)\n",
    "    19\n",
    "    \"\"\"\n",
    "    def f(n):\n",
    "        def g(x):\n",
    "            if n == 0:\n",
    "                return x\n",
    "            return cycle(f2, f3, f1)(n - 1)(f1(x))\n",
    "        return g\n",
    "    return f\n",
    "import doctest\n",
    "doctest.testmod()\n"
   ]
  },
  {
   "cell_type": "code",
   "execution_count": null,
   "metadata": {},
   "outputs": [],
   "source": [
    "def is_palindrome(n):\n",
    "    \"\"\"\n",
    "    Fill in the blanks '_____' to check if a number\n",
    "    is a palindrome.\n",
    "    >>> is_palindrome(12321)\n",
    "    True\n",
    "    >>> is_palindrome(42)\n",
    "    False\n",
    "    >>> is_palindrome(2015)\n",
    "    False\n",
    "    >>> is_palindrome(55)\n",
    "    True\n",
    "    \"\"\"\n",
    "    x, y = n, 0\n",
    "    f = lambda: y * 10 + x % 10\n",
    "    while x > 0:\n",
    "        x, y = x // 10, f()\n",
    "    return y == n\n",
    "import doctest\n",
    "doctest.testmod()"
   ]
  },
  {
   "cell_type": "markdown",
   "metadata": {},
   "source": [
    "Discussion 03: Recursion"
   ]
  },
  {
   "cell_type": "code",
   "execution_count": null,
   "metadata": {},
   "outputs": [],
   "source": [
    "def hailstone(n, step=1):\n",
    "    \"\"\"Print out the hailstone sequence starting at n, and return the\n",
    "    number of elements in the sequence.\n",
    "    >>> a = hailstone(10)\n",
    "    10\n",
    "    5\n",
    "    16\n",
    "    8\n",
    "    4\n",
    "    2\n",
    "    1\n",
    "    >>> a\n",
    "    7\n",
    "    \"\"\"\n",
    "    if n == 1:\n",
    "        print(n)\n",
    "        return step\n",
    "    step += 1\n",
    "    if n % 2 == 0:\n",
    "        print(n)\n",
    "        return hailstone(n // 2, step)\n",
    "    else:\n",
    "        print(n)\n",
    "        return hailstone(n * 3 + 1, step)\n",
    "import doctest\n",
    "doctest.testmod() "
   ]
  },
  {
   "cell_type": "code",
   "execution_count": null,
   "metadata": {},
   "outputs": [],
   "source": [
    "def is_prime(n, k = 2):\n",
    "    \"\"\"\n",
    "    >>> is_prime(7)\n",
    "    True\n",
    "    >>> is_prime(10)\n",
    "    False\n",
    "    >>> is_prime(1)\n",
    "    False\n",
    "    \"\"\"\n",
    "    if n <= 2:\n",
    "        return True if n == 2 else False\n",
    "    if n % k == 0:\n",
    "        return False\n",
    "    if k * k > n:\n",
    "        return True\n",
    "    return is_prime(n, k + 1)\n",
    "import doctest\n",
    "doctest.testmod() "
   ]
  },
  {
   "cell_type": "code",
   "execution_count": null,
   "metadata": {},
   "outputs": [],
   "source": [
    "def merge(n1, n2):\n",
    "    \"\"\" Merges two numbers\n",
    "    >>> merge(31, 42)\n",
    "    4321\n",
    "    >>> merge(21, 0)\n",
    "    21\n",
    "    >>> merge (21, 31)\n",
    "    3211\n",
    "    \"\"\"\n",
    "    if n1 == 0 or n2 == 0:\n",
    "        return n1 + n2\n",
    "    elif n1 % 10 < n2 % 10:\n",
    "        return n1 % 10 + merge(n1 // 10, n2) * 10\n",
    "    elif n1 % 10 > n2 % 10:\n",
    "        return n2 % 10 + merge(n1, n2 // 10) * 10\n",
    "    else:\n",
    "        return (n1 % 10) * 10 + n1 % 10 + merge(n1 // 10, n2 // 10) * 100\n",
    "import doctest\n",
    "doctest.testmod() "
   ]
  },
  {
   "cell_type": "code",
   "execution_count": null,
   "metadata": {},
   "outputs": [],
   "source": [
    "def make_func_repeater(f, x):\n",
    "    \"\"\"\n",
    "    >>> incr_1 = make_func_repeater(lambda x: x + 1, 1)\n",
    "    >>> incr_1(2) #same as f(f(x))\n",
    "    3\n",
    "    >>> incr_1(5)\n",
    "    6\n",
    "    \"\"\"\n",
    "    def repeat(n):\n",
    "        if n == 1:\n",
    "            return f(x)\n",
    "        else:\n",
    "            return make_func_repeater(f, f(x))(n - 1)\n",
    "    return repeat\n",
    "import doctest\n",
    "doctest.testmod() "
   ]
  },
  {
   "cell_type": "markdown",
   "metadata": {},
   "source": [
    "Discussion 04: Python Lists, Tree Recursion"
   ]
  },
  {
   "cell_type": "code",
   "execution_count": null,
   "metadata": {},
   "outputs": [],
   "source": [
    "def count_stair_ways(n):\n",
    "    if n == 0 or n == 1:\n",
    "        return 1\n",
    "    else:\n",
    "        return count_stair_ways(n - 1) + count_stair_ways(n - 2)\n",
    "count_stair_ways(37)"
   ]
  },
  {
   "cell_type": "code",
   "execution_count": null,
   "metadata": {},
   "outputs": [],
   "source": [
    "def even_weighted(s):\n",
    "    \"\"\"\n",
    "    >>> x = [1, 2, 3, 4, 5, 6]\n",
    "    >>> even_weighted(x)\n",
    "    [0, 6, 20]\n",
    "    \"\"\"\n",
    "    return [i * s[i]  for i in range(len(s)) if i % 2 == 0]\n",
    "import doctest\n",
    "doctest.testmod() "
   ]
  },
  {
   "cell_type": "code",
   "execution_count": null,
   "metadata": {},
   "outputs": [],
   "source": [
    "def max_product(s):\n",
    "    \"\"\"Return the maximum product that can be formed using non-consecutive\n",
    "    elements of s.\n",
    "    >>> max_product([10,3,1,9,2]) # 10 * 9\n",
    "    90\n",
    "    >>> max_product([5,10,5,10,5]) # 5 * 5 * 5\n",
    "    125\n",
    "    >>> max_product([])\n",
    "    1\n",
    "    \"\"\"\n",
    "    if not s:\n",
    "        return 1\n",
    "    elif len(s) == 1:\n",
    "        return s[0]\n",
    "    else:\n",
    "        #return max([s[i] * max_product(s[i + 2:]) for i in range(len(s))])\n",
    "        return max(max_product(s[1:]), s[0] * max_product(s[2:]))\n",
    "import doctest\n",
    "doctest.testmod()"
   ]
  },
  {
   "cell_type": "code",
   "execution_count": 5,
   "metadata": {},
   "outputs": [
    {
     "data": {
      "text/plain": [
       "TestResults(failed=0, attempted=3)"
      ]
     },
     "execution_count": 5,
     "metadata": {},
     "output_type": "execute_result"
    }
   ],
   "source": [
    "def check_hole_number(n):\n",
    "    \"\"\"\n",
    "    >>> check_hole_number(123)\n",
    "    False\n",
    "    >>> check_hole_number(3241968)\n",
    "    True\n",
    "    >>> check_hole_number(3245968)\n",
    "    False\n",
    "    \"\"\"\n",
    "    if len(str(n)) == 3:\n",
    "        return n % 10 > (n // 10) % 10 and n // 100 > (n // 10) % 10 \n",
    "    return check_hole_number(n % 1000) and check_hole_number(n // 100)\n",
    "import doctest\n",
    "doctest.testmod()"
   ]
  },
  {
   "cell_type": "code",
   "execution_count": 6,
   "metadata": {},
   "outputs": [
    {
     "data": {
      "text/plain": [
       "TestResults(failed=0, attempted=7)"
      ]
     },
     "execution_count": 6,
     "metadata": {},
     "output_type": "execute_result"
    }
   ],
   "source": [
    "def check_mountain_number(n):\n",
    "    \"\"\"\n",
    "    >>> check_mountain_number(103)\n",
    "    False\n",
    "    >>> check_mountain_number(153)\n",
    "    True\n",
    "    >>> check_mountain_number(123456)\n",
    "    True\n",
    "    >>> check_mountain_number(2345986)\n",
    "    True\n",
    "    \"\"\"\n",
    "    def helper(x, is_increasing):\n",
    "        if x // 10 == 0:\n",
    "            return True\n",
    "        if is_increasing and (x % 10) < (x // 10) % 10:\n",
    "            return helper(x // 10, is_increasing)\n",
    "        return (x % 10) > (x // 10) % 10 and helper(x // 10, False)\n",
    "    return helper(n, True)\n",
    "import doctest\n",
    "doctest.testmod()"
   ]
  },
  {
   "cell_type": "markdown",
   "metadata": {},
   "source": [
    "Guerrilla 01: Python Lists, Recursion, Tree Recursion"
   ]
  },
  {
   "cell_type": "code",
   "execution_count": null,
   "metadata": {},
   "outputs": [],
   "source": [
    "def map_mut(f, L):\n",
    "    \"\"\"\n",
    "    >>> L = [1, 2, 3, 4]\n",
    "    >>> map_mut(lambda x: x**2, L)\n",
    "    >>> L\n",
    "    [1, 4, 9, 16]\n",
    "    \"\"\"\n",
    "    for i in range(len(L)):\n",
    "        L[i] = f(L[i])\n",
    "import doctest\n",
    "doctest.testmod()"
   ]
  },
  {
   "cell_type": "code",
   "execution_count": null,
   "metadata": {},
   "outputs": [],
   "source": [
    "def merge(s1, s2):\n",
    "    \"\"\" Merges two sorted lists\n",
    "    >>> merge([1, 3], [2, 4])\n",
    "    [1, 2, 3, 4]\n",
    "    >>> merge([1, 2], [])\n",
    "    [1, 2]\n",
    "    \"\"\"\n",
    "    if not (s1 and s2):\n",
    "        return s1 + s2\n",
    "    if s1[0] < s2[0]:\n",
    "        return [s1[0]] + merge(s1[1:], s2)\n",
    "    elif s1[0] > s2[0]:\n",
    "        return [s2[0]] + merge(s1, s2[1:])\n",
    "import doctest\n",
    "doctest.testmod()"
   ]
  },
  {
   "cell_type": "code",
   "execution_count": 4,
   "metadata": {},
   "outputs": [
    {
     "data": {
      "text/plain": [
       "TestResults(failed=0, attempted=8)"
      ]
     },
     "execution_count": 4,
     "metadata": {},
     "output_type": "execute_result"
    }
   ],
   "source": [
    "def mario_number(level):\n",
    "    \"\"\"Return the number of ways that Mario can perform a sequence of steps\n",
    "    or jumps to reach the end of the level without ever landing in a Piranha\n",
    "    plant. Assume that every level begins and ends with a dash.\n",
    "    >>> mario_number('-P-P-') # jump, jump\n",
    "    1\n",
    "    >>> mario_number('-P-P--') # jump, jump, step\n",
    "    1\n",
    "    >>> mario_number('--P-P-') # step, jump, jump\n",
    "    1\n",
    "    >>> mario_number('---P-P-') # step, step, jump, jump or jump, jump, jump\n",
    "    2\n",
    "    >>> mario_number('-P-PP-') # Mario cannot jump two plants\n",
    "    0\n",
    "    >>> mario_number('----') # step, jump ; jump, step ; step, step, step\n",
    "    3\n",
    "    >>> mario_number('----P----')\n",
    "    9\n",
    "    >>> mario_number('---P----P-P---P--P-P----P-----P-')\n",
    "    180\n",
    "    \"\"\"\n",
    "    if level == '-' or level == '--':\n",
    "        return 1\n",
    "    elif level[0] == 'P':\n",
    "        return 0\n",
    "    else:\n",
    "        return mario_number(level[1:]) + mario_number(level[2:])\n",
    "\n",
    "import doctest\n",
    "doctest.testmod()"
   ]
  },
  {
   "cell_type": "markdown",
   "metadata": {},
   "source": [
    "Discussion 05: Data Abstraction, Trees, Mutability"
   ]
  },
  {
   "cell_type": "code",
   "execution_count": 8,
   "metadata": {},
   "outputs": [],
   "source": [
    "#Tree ADT\n",
    "\n",
    "def tree(label, branches=[]):\n",
    "    for branch in branches:\n",
    "        assert is_tree(branch)\n",
    "    return [label] + list(branches)\n",
    "\n",
    "def label(tree):\n",
    "    return tree[0]\n",
    "\n",
    "def branches(tree):\n",
    "    return tree[1:]\n",
    "\n",
    "def is_tree(tree):\n",
    "    if type(tree) != list or len(tree) < 1:\n",
    "        return False\n",
    "    for branch in branches(tree):\n",
    "        if not is_tree(branch):\n",
    "            return False\n",
    "    return True\n",
    "\n",
    "def is_leaf(tree):\n",
    "    return not branches(tree)\n",
    "\n",
    "def print_tree(t, indent=0):\n",
    "    \"\"\"Print a representation of this tree in which each node is\n",
    "    indented by two spaces times its depth from the root.\n",
    "\n",
    "    >>> print_tree(tree(1))\n",
    "    1\n",
    "    >>> print_tree(tree(1, [tree(2)]))\n",
    "    1\n",
    "      2\n",
    "    >>> numbers = tree(1, [tree(2), tree(3, [tree(4), tree(5)]), tree(6, [tree(7)])])\n",
    "    >>> print_tree(numbers)\n",
    "    1\n",
    "      2\n",
    "      3\n",
    "        4\n",
    "        5\n",
    "      6\n",
    "        7\n",
    "    \"\"\"\n",
    "    print('  ' * indent + str(label(t)))\n",
    "    for b in branches(t):\n",
    "        print_tree(b, indent + 1)"
   ]
  },
  {
   "cell_type": "code",
   "execution_count": 11,
   "metadata": {},
   "outputs": [
    {
     "data": {
      "text/plain": [
       "TestResults(failed=0, attempted=4)"
      ]
     },
     "execution_count": 11,
     "metadata": {},
     "output_type": "execute_result"
    }
   ],
   "source": [
    "\n",
    "def height(t):\n",
    "    \"\"\"Return the height of a tree.\n",
    "    >>> t = tree(3, [tree(5, [tree(1)]), tree(2)])\n",
    "    >>> height(t)\n",
    "    2\n",
    "    >>> y = tree(1, [tree(2, [tree(4, [tree(6), tree(7), tree(8)]), tree(5)]), tree(3)])\n",
    "    >>> height(y)\n",
    "    3\n",
    "    \"\"\"\n",
    "    if is_leaf(t):\n",
    "        return 0\n",
    "    else:\n",
    "        height_branch = [1 + height(branch) for branch in branches(t)]\n",
    "        return max(height_branch)\n",
    "import doctest\n",
    "doctest.testmod()"
   ]
  },
  {
   "cell_type": "code",
   "execution_count": 15,
   "metadata": {},
   "outputs": [
    {
     "data": {
      "text/plain": [
       "TestResults(failed=0, attempted=10)"
      ]
     },
     "execution_count": 15,
     "metadata": {},
     "output_type": "execute_result"
    }
   ],
   "source": [
    "def square_tree(t):\n",
    "    \"\"\"Return a tree with the square of every element in t\n",
    "    >>> numbers = tree(1,\n",
    "    ...                 [tree(2,\n",
    "    ...                     [tree(3),\n",
    "    ...                     tree(4)]),\n",
    "    ...                 tree(5,\n",
    "    ...                     [tree(6,\n",
    "    ...                         [tree(7)]),\n",
    "    ...                     tree(8)])])\n",
    "    >>> print_tree(square_tree(numbers))\n",
    "    1\n",
    "      4\n",
    "        9\n",
    "        16\n",
    "      25\n",
    "        36\n",
    "          49\n",
    "        64\n",
    "    \"\"\"\n",
    "    squared_branches = [square_tree(b) for b in branches(t)]\n",
    "    return tree(label(t) ** 2, squared_branches)\n",
    "import doctest\n",
    "doctest.testmod()"
   ]
  },
  {
   "cell_type": "code",
   "execution_count": 23,
   "metadata": {},
   "outputs": [
    {
     "data": {
      "text/plain": [
       "TestResults(failed=0, attempted=13)"
      ]
     },
     "execution_count": 23,
     "metadata": {},
     "output_type": "execute_result"
    }
   ],
   "source": [
    "def find_path(tree, x):\n",
    "    \"\"\"\n",
    "    >>> t = tree(2, [tree(7, [tree(3), tree(6, [tree(5), tree(11)])] ), tree(15)])\n",
    "    >>> find_path(t, 5)\n",
    "    [2, 7, 6, 5]\n",
    "    >>> find_path(t, 10) # returns None\n",
    "    \"\"\"\n",
    "    if label(tree) == x:\n",
    "        return [label(tree)]\n",
    "    for b in branches(tree):\n",
    "        path = find_path(b, x)\n",
    "        if path:\n",
    "            return [label(tree)] + path\n",
    "import doctest\n",
    "doctest.testmod()"
   ]
  },
  {
   "cell_type": "code",
   "execution_count": 26,
   "metadata": {},
   "outputs": [
    {
     "data": {
      "text/plain": [
       "TestResults(failed=0, attempted=18)"
      ]
     },
     "execution_count": 26,
     "metadata": {},
     "output_type": "execute_result"
    }
   ],
   "source": [
    "def add_this_many(x, el, lst):\n",
    "    \"\"\" Adds el to the end of lst the number of times x occurs\n",
    "    in lst.\n",
    "    >>> lst = [1, 2, 4, 2, 1]\n",
    "    >>> add_this_many(1, 5, lst)\n",
    "    >>> lst\n",
    "    [1, 2, 4, 2, 1, 5, 5]\n",
    "    >>> add_this_many(2, 2, lst)\n",
    "    >>> lst\n",
    "    [1, 2, 4, 2, 1, 5, 5, 2, 2]\n",
    "    \"\"\"\n",
    "    count = 0\n",
    "    for elem in lst:\n",
    "        if elem == x:\n",
    "            count += 1\n",
    "    while count > 0:\n",
    "        lst.append(el)\n",
    "        count -= 1\n",
    "import doctest\n",
    "doctest.testmod()"
   ]
  },
  {
   "cell_type": "code",
   "execution_count": 32,
   "metadata": {},
   "outputs": [
    {
     "data": {
      "text/plain": [
       "TestResults(failed=0, attempted=20)"
      ]
     },
     "execution_count": 32,
     "metadata": {},
     "output_type": "execute_result"
    }
   ],
   "source": [
    "def group_by(s, fn):\n",
    "    \"\"\"\n",
    "    >>> group_by([12, 23, 14, 45], lambda p: p // 10)\n",
    "    {1: [12, 14], 2: [23], 4: [45]}\n",
    "    >>> group_by(range(-3, 4), lambda x: x * x)\n",
    "    {9: [-3, 3], 4: [-2, 2], 1: [-1, 1], 0: [0]}\n",
    "    \"\"\"\n",
    "    d = {}\n",
    "    for e in s:\n",
    "        key = fn(e)\n",
    "        if key in d:\n",
    "            d[key].append(e)\n",
    "        else:\n",
    "            d[key] = [e]\n",
    "    return d\n",
    "import doctest\n",
    "doctest.testmod()\n"
   ]
  },
  {
   "cell_type": "code",
   "execution_count": 48,
   "metadata": {},
   "outputs": [
    {
     "data": {
      "text/plain": [
       "TestResults(failed=0, attempted=23)"
      ]
     },
     "execution_count": 48,
     "metadata": {},
     "output_type": "execute_result"
    }
   ],
   "source": [
    "def partition_options(total, biggest):\n",
    "    \"\"\"\n",
    "    >>> partition_options(2, 2)\n",
    "    [[2], [1, 1]]\n",
    "    >>> partition_options(3, 3)\n",
    "    [[3], [2, 1], [1, 1, 1]]\n",
    "    >>> partition_options(4, 3)\n",
    "    [[3, 1], [2, 2], [2, 1, 1], [1, 1, 1, 1]]\n",
    "    \"\"\"\n",
    "    if total == 0:\n",
    "        return [[]]\n",
    "    elif total < 0 or biggest == 0:\n",
    "        return []\n",
    "    else:\n",
    "        with_biggest = partition_options(total - biggest, biggest) \n",
    "        without_biggest = partition_options(total, biggest - 1)\n",
    "        with_biggest = [[biggest] + elem for elem in with_biggest]\n",
    "        return with_biggest + without_biggest\n",
    "import doctest\n",
    "doctest.testmod()\n"
   ]
  },
  {
   "cell_type": "code",
   "execution_count": 51,
   "metadata": {},
   "outputs": [
    {
     "data": {
      "text/plain": [
       "TestResults(failed=0, attempted=26)"
      ]
     },
     "execution_count": 51,
     "metadata": {},
     "output_type": "execute_result"
    }
   ],
   "source": [
    "def min_elements(T, lst):\n",
    "    \"\"\"\n",
    "    >>> min_elements(10, [4, 2, 1]) # 4 + 4 + 2\n",
    "    3\n",
    "    >>> min_elements(12, [9, 4, 1]) # 4 + 4 + 4\n",
    "    3\n",
    "    >>> min_elements(0, [1, 2, 3])\n",
    "    0\n",
    "    \"\"\"\n",
    "    if T == 0:\n",
    "        return 0\n",
    "    return min([1 + min_elements(T - i, lst) for i in lst if T - i >= 0])\n",
    "import doctest\n",
    "doctest.testmod()"
   ]
  },
  {
   "cell_type": "markdown",
   "metadata": {},
   "source": [
    "Discussion 06: Nonlocal, Iterators & Generators"
   ]
  },
  {
   "cell_type": "code",
   "execution_count": 1,
   "metadata": {},
   "outputs": [
    {
     "data": {
      "text/plain": [
       "TestResults(failed=0, attempted=4)"
      ]
     },
     "execution_count": 1,
     "metadata": {},
     "output_type": "execute_result"
    }
   ],
   "source": [
    "def memory(n):\n",
    "    \"\"\"\n",
    "    >>> f = memory(10)\n",
    "    >>> f(lambda x: x * 2)\n",
    "    20\n",
    "    >>> f(lambda x: x - 7)\n",
    "    13\n",
    "    >>> f(lambda x: x > 5)\n",
    "    True\n",
    "    \"\"\"\n",
    "    def f(g):\n",
    "        nonlocal n\n",
    "        n = g(n)\n",
    "        return n\n",
    "    return f\n",
    "import doctest\n",
    "doctest.testmod()"
   ]
  },
  {
   "cell_type": "code",
   "execution_count": 1,
   "metadata": {},
   "outputs": [
    {
     "data": {
      "text/plain": [
       "TestResults(failed=0, attempted=9)"
      ]
     },
     "execution_count": 1,
     "metadata": {},
     "output_type": "execute_result"
    }
   ],
   "source": [
    "def nonlocalist():\n",
    "    \"\"\"\n",
    "    >>> prepend, get = nonlocalist()\n",
    "    >>> prepend(2)\n",
    "    >>> prepend(3)\n",
    "    >>> prepend(4)\n",
    "    >>> get(0)\n",
    "    4\n",
    "    >>> get(1)\n",
    "    3\n",
    "    >>> get(2)\n",
    "    2\n",
    "    >>> prepend(8)\n",
    "    >>> get(2)\n",
    "    3\n",
    "    \"\"\"\n",
    "    get = lambda x: \"Index out of range!\"\n",
    "    def prepend(value):\n",
    "        nonlocal get\n",
    "        f = get\n",
    "        def get(i):\n",
    "            if i == 0:\n",
    "                return value\n",
    "            return f(i - 1)\n",
    "    return prepend, lambda x: get(x)\n",
    "import doctest\n",
    "doctest.testmod()"
   ]
  },
  {
   "cell_type": "code",
   "execution_count": 17,
   "metadata": {},
   "outputs": [
    {
     "data": {
      "text/plain": [
       "TestResults(failed=0, attempted=14)"
      ]
     },
     "execution_count": 17,
     "metadata": {},
     "output_type": "execute_result"
    }
   ],
   "source": [
    "def merge(a, b):\n",
    "    \"\"\"\n",
    "    >>> def sequence(start, step):\n",
    "    ...     while True:\n",
    "    ...         yield start\n",
    "    ...         start += step\n",
    "    >>> a = sequence(2, 3) # 2, 5, 8, 11, 14, ...\n",
    "    >>> b = sequence(3, 2) # 3, 5, 7, 9, 11, 13, 15, ...\n",
    "    >>> result = merge(a, b) # 2, 3, 5, 7, 8, 9, 11, 13, 14, 15\n",
    "    >>> [next(result) for _ in range(10)]\n",
    "    [2, 3, 5, 7, 8, 9, 11, 13, 14, 15]\n",
    "    \"\"\"\n",
    "    first_a, first_b = next(a), next(b)\n",
    "    while True:\n",
    "        if first_a == first_b:\n",
    "            yield first_a\n",
    "            first_a, first_b = next(a), next(b)\n",
    "        elif first_a < first_b:\n",
    "            yield first_a\n",
    "            first_a = next(a)\n",
    "        else:\n",
    "            yield first_b\n",
    "            first_b = next(b)\n",
    "import doctest\n",
    "doctest.testmod()"
   ]
  },
  {
   "cell_type": "code",
   "execution_count": 17,
   "metadata": {},
   "outputs": [
    {
     "data": {
      "text/plain": [
       "TestResults(failed=0, attempted=2)"
      ]
     },
     "execution_count": 17,
     "metadata": {},
     "output_type": "execute_result"
    }
   ],
   "source": [
    "def generate_subsets():\n",
    "    \"\"\"\n",
    "    >>> subsets = generate_subsets()\n",
    "    >>> for _ in range(3):\n",
    "    ...     print(next(subsets))\n",
    "    ...\n",
    "    [[]]\n",
    "    [[], [1]]\n",
    "    [[], [1], [2], [1, 2]]\n",
    "    \"\"\"\n",
    "    def subset(n):\n",
    "        if n == 0:\n",
    "            return [[]]\n",
    "        without_n = subset(n - 1)\n",
    "        with_n = subset(n - 1)\n",
    "        for e in with_n:\n",
    "            e.append(n)\n",
    "            without_n.append(e)\n",
    "        return without_n\n",
    "    i = 0\n",
    "    while True:\n",
    "        yield subset(i)\n",
    "        i += 1\n",
    "import doctest\n",
    "doctest.testmod()"
   ]
  },
  {
   "cell_type": "code",
   "execution_count": 18,
   "metadata": {},
   "outputs": [
    {
     "data": {
      "text/plain": [
       "TestResults(failed=0, attempted=2)"
      ]
     },
     "execution_count": 18,
     "metadata": {},
     "output_type": "execute_result"
    }
   ],
   "source": [
    "def generate_subsets():\n",
    "    \"\"\"\n",
    "    >>> subsets = generate_subsets()\n",
    "    >>> for _ in range(3):\n",
    "    ...     print(next(subsets))\n",
    "    ...\n",
    "    [[]]\n",
    "    [[], [1]]\n",
    "    [[], [1], [2], [1, 2]]\n",
    "    \"\"\"\n",
    "    subsets, n = [[]], 1\n",
    "    while True:\n",
    "        yield subsets\n",
    "        subsets = subsets + [s + [n] for s in subsets]\n",
    "        n += 1\n",
    "import doctest\n",
    "doctest.testmod()"
   ]
  },
  {
   "cell_type": "code",
   "execution_count": 4,
   "metadata": {},
   "outputs": [
    {
     "data": {
      "text/plain": [
       "TestResults(failed=0, attempted=8)"
      ]
     },
     "execution_count": 4,
     "metadata": {},
     "output_type": "execute_result"
    }
   ],
   "source": [
    "def sum_paths_gen(t):\n",
    "    \"\"\"\n",
    "    >>> t1 = tree(5)\n",
    "    >>> next(sum_paths_gen(t1))\n",
    "    5\n",
    "    >>> t2 = tree(1, [tree(2, [tree(3), tree(4)]), tree(9)])\n",
    "    >>> sorted(sum_paths_gen(t2))\n",
    "    [6, 7, 10]\n",
    "    \"\"\"\n",
    "    if is_leaf(t):\n",
    "        yield label(t)\n",
    "    for b in branches(t):\n",
    "        for s in sum_paths_gen(b):\n",
    "            yield label(t) + s\n",
    "\n",
    "import doctest\n",
    "doctest.testmod()"
   ]
  },
  {
   "cell_type": "code",
   "execution_count": 12,
   "metadata": {},
   "outputs": [
    {
     "data": {
      "text/plain": [
       "TestResults(failed=0, attempted=11)"
      ]
     },
     "execution_count": 12,
     "metadata": {},
     "output_type": "execute_result"
    }
   ],
   "source": [
    "def collect_words(t):\n",
    "    \"\"\"Return a list of all the words contained in the tree where the value of each node in\n",
    "    the tree is an individual letter. Words terminate at the leaf of a tree.\n",
    "    >>> greetings = tree('h', [tree('i'),\n",
    "    ...                         tree('e', [tree('l', [tree('l', [tree('o')])]),\n",
    "    ...                                     tree('y')])])\n",
    "    >>> print_tree(greetings)\n",
    "    h\n",
    "      i\n",
    "      e\n",
    "        l\n",
    "          l\n",
    "            o\n",
    "        y\n",
    "\n",
    "    >>> collect_words(greetings)\n",
    "    ['hi', 'hello', 'hey']\n",
    "    \"\"\"\n",
    "    if is_leaf(t):\n",
    "        return label(t)\n",
    "    words = []\n",
    "    for b in branches(t):\n",
    "        words += [label(t) + word for word in collect_words(b)]\n",
    "    return words\n",
    "import doctest\n",
    "doctest.testmod()"
   ]
  },
  {
   "cell_type": "markdown",
   "metadata": {},
   "source": [
    "Guerrilla 02: Data Abstraction, Trees, Nonlocal, Iterators & Generators"
   ]
  },
  {
   "cell_type": "code",
   "execution_count": 14,
   "metadata": {},
   "outputs": [
    {
     "data": {
      "text/plain": [
       "TestResults(failed=0, attempted=15)"
      ]
     },
     "execution_count": 14,
     "metadata": {},
     "output_type": "execute_result"
    }
   ],
   "source": [
    "def is_min_heap(t):\n",
    "    \"\"\"Takes a tree and returns True if the tree is a min-heap and False otherwise.\n",
    "    \n",
    "    >>> a = tree(1, [tree(5,[tree(7)]), tree(3,[tree(9), tree(4)]), tree(6)])\n",
    "    >>> is_min_heap(a)\n",
    "    True\n",
    "    >>> b = tree(1, [tree(5, [tree(7)]), tree(3, [tree(9), tree(2)]), tree(6)])\n",
    "    >>> is_min_heap(b)\n",
    "    False\n",
    "    \"\"\"\n",
    "    for b in branches(t):\n",
    "        if label(b) < label(t):\n",
    "            return False\n",
    "    branch_check = [is_min_heap(b) for b in branches(t)]\n",
    "    return not (False in branch_check)\n",
    "import doctest\n",
    "doctest.testmod()"
   ]
  },
  {
   "cell_type": "code",
   "execution_count": 16,
   "metadata": {},
   "outputs": [
    {
     "data": {
      "text/plain": [
       "TestResults(failed=0, attempted=19)"
      ]
     },
     "execution_count": 16,
     "metadata": {},
     "output_type": "execute_result"
    }
   ],
   "source": [
    "def largest_product_path(tree):\n",
    "    \"\"\"\n",
    "    >>> largest_product_path(None)\n",
    "    0\n",
    "    >>> largest_product_path(tree(3))\n",
    "    3\n",
    "    >>> t = tree(3, [tree(7, [tree(2)]), tree(8, [tree(1)]), tree(4)])\n",
    "    >>> largest_product_path(t)\n",
    "    42\n",
    "    \"\"\"\n",
    "    if tree == None:\n",
    "        return 0\n",
    "    if is_leaf(tree):\n",
    "        return label(tree)\n",
    "    branch_prod = [label(tree) * largest_product_path(b) for b in branches(tree)]\n",
    "    return max(branch_prod)\n",
    "import doctest\n",
    "doctest.testmod()"
   ]
  },
  {
   "cell_type": "code",
   "execution_count": 19,
   "metadata": {},
   "outputs": [
    {
     "data": {
      "text/plain": [
       "TestResults(failed=0, attempted=20)"
      ]
     },
     "execution_count": 19,
     "metadata": {},
     "output_type": "execute_result"
    }
   ],
   "source": [
    "def max_tree(t):\n",
    "    \"\"\"\n",
    "    >>> max_tree(tree(1, [tree(5, [tree(7)]),tree(3,[tree(9),tree(4)]),tree(6)]))\n",
    "    [9, [7, [7]], [9, [9], [4]], [6]]\n",
    "    \"\"\"\n",
    "    \n",
    "    if is_leaf(t):\n",
    "        return tree(label(t))\n",
    "    else:\n",
    "        new_branches = [max_tree(b) for b in branches(t)]\n",
    "        new_label = max([label(new_branch) for new_branch in new_branches])\n",
    "        return tree(new_label, new_branches)\n",
    "import doctest\n",
    "doctest.testmod()"
   ]
  },
  {
   "cell_type": "code",
   "execution_count": 7,
   "metadata": {},
   "outputs": [
    {
     "data": {
      "text/plain": [
       "TestResults(failed=0, attempted=6)"
      ]
     },
     "execution_count": 7,
     "metadata": {},
     "output_type": "execute_result"
    }
   ],
   "source": [
    "def level_order(tree):\n",
    "    \"\"\"\n",
    "    Takes in a tree as the parameter and returns a list of the values of the nodes in level order.\n",
    "\n",
    "    >>> a = tree(3, [tree(7, [tree(5), tree(6)]), tree(8), tree(4)])\n",
    "    >>> level_order(a)\n",
    "    [3, 7, 8, 4, 5, 6]\n",
    "    \"\"\"\n",
    "    visited, queue = [], [tree]\n",
    "    while queue:\n",
    "        node = queue.pop(0)\n",
    "        visited.append(node)\n",
    "        queue.extend([b for b in branches(node)])\n",
    "    return [label(e) for e in visited]\n",
    "import doctest\n",
    "doctest.testmod()\n",
    "    "
   ]
  },
  {
   "cell_type": "code",
   "execution_count": 38,
   "metadata": {},
   "outputs": [
    {
     "data": {
      "text/plain": [
       "TestResults(failed=0, attempted=8)"
      ]
     },
     "execution_count": 38,
     "metadata": {},
     "output_type": "execute_result"
    }
   ],
   "source": [
    "def all_paths(t):\n",
    "    \"\"\"\n",
    "    Takes in a tree as the parameter and return a list of lists of all the possible paths of an input tree.\n",
    "\n",
    "    >>> a = tree(3, [tree(7, [tree(5), tree(6)]), tree(8), tree(4)])\n",
    "    >>> all_paths(a)\n",
    "    [[3, 7, 5], [3, 7, 6], [3, 8], [3, 4]]\n",
    "    \"\"\"\n",
    "    if is_leaf(t):\n",
    "        return [[label(t)]]\n",
    "    else:\n",
    "        sub_paths = [all_paths(b) for b in branches(t)]\n",
    "        for p in sub_paths:\n",
    "            for e in p:\n",
    "                e.insert(0, label(t))\n",
    "        return [x for xs in sub_paths for x in xs]\n",
    "import doctest\n",
    "doctest.testmod()"
   ]
  },
  {
   "cell_type": "code",
   "execution_count": 39,
   "metadata": {},
   "outputs": [
    {
     "data": {
      "text/plain": [
       "TestResults(failed=0, attempted=14)"
      ]
     },
     "execution_count": 39,
     "metadata": {},
     "output_type": "execute_result"
    }
   ],
   "source": [
    "def make_max_finder():\n",
    "    \"\"\"\n",
    "    >>> m = make_max_finder()\n",
    "    >>> m([5, 6, 7])\n",
    "    7\n",
    "    >>> m([1, 2, 3])\n",
    "    7\n",
    "    >>> m([9])\n",
    "    9\n",
    "    >>> m2 = make_max_finder()\n",
    "    >>> m2([1])\n",
    "    1\n",
    "    \"\"\"\n",
    "    a = []\n",
    "    def f(lst):\n",
    "        nonlocal a\n",
    "        a.extend(lst)\n",
    "        return max(a)\n",
    "    return f\n",
    "import doctest\n",
    "doctest.testmod()"
   ]
  },
  {
   "cell_type": "code",
   "execution_count": 40,
   "metadata": {},
   "outputs": [
    {
     "data": {
      "text/plain": [
       "TestResults(failed=0, attempted=18)"
      ]
     },
     "execution_count": 40,
     "metadata": {},
     "output_type": "execute_result"
    }
   ],
   "source": [
    "def generate_constant(x):\n",
    "    \"\"\"A generator function that repeats the same value x forever.\n",
    "    >>> area = generate_constant(51)\n",
    "    >>> next(area)\n",
    "    51\n",
    "    >>> next(area)\n",
    "    51\n",
    "    >>> sum([next(area) for _ in range(100)])\n",
    "    5100\n",
    "    \"\"\"\n",
    "    while True:\n",
    "        yield x\n",
    "import doctest\n",
    "doctest.testmod()"
   ]
  },
  {
   "cell_type": "code",
   "execution_count": 42,
   "metadata": {},
   "outputs": [
    {
     "data": {
      "text/plain": [
       "TestResults(failed=0, attempted=21)"
      ]
     },
     "execution_count": 42,
     "metadata": {},
     "output_type": "execute_result"
    }
   ],
   "source": [
    "def black_hole(seq, trap):\n",
    "    \"\"\"A generator that yields items in SEQ until one of them matches TRAP, in which case that\n",
    "    value should be repeatedly yielded forever.\n",
    "    >>> trapped = black_hole([1, 2, 3], 2)\n",
    "    >>> [next(trapped) for _ in range(6)]\n",
    "    [1, 2, 2, 2, 2, 2]\n",
    "    >>> list(black_hole(range(5), 7))\n",
    "    [0, 1, 2, 3, 4]\n",
    "    \"\"\"\n",
    "    i = 0\n",
    "    for i in range(len(seq)):\n",
    "        if seq[i] == trap:\n",
    "            yield from generate_constant(trap)\n",
    "        yield seq[i]\n",
    "        i += 1\n",
    "import doctest\n",
    "doctest.testmod()"
   ]
  },
  {
   "cell_type": "code",
   "execution_count": 4,
   "metadata": {},
   "outputs": [
    {
     "data": {
      "text/plain": [
       "TestResults(failed=0, attempted=6)"
      ]
     },
     "execution_count": 4,
     "metadata": {},
     "output_type": "execute_result"
    }
   ],
   "source": [
    "def gen_inf(lst):\n",
    "    \"\"\"\n",
    "    >>> t = gen_inf([3, 4, 5])\n",
    "    >>> next(t)\n",
    "    3\n",
    "    >>> next(t)\n",
    "    4\n",
    "    >>> next(t)\n",
    "    5\n",
    "    >>> next(t)\n",
    "    3\n",
    "    >>> next(t)\n",
    "    4\n",
    "    \"\"\"\n",
    "    while True:\n",
    "        yield lst[0]\n",
    "        yield from gen_inf(lst[1:] + [lst[0]])\n",
    "import doctest\n",
    "doctest.testmod()"
   ]
  },
  {
   "cell_type": "code",
   "execution_count": 6,
   "metadata": {},
   "outputs": [
    {
     "data": {
      "text/plain": [
       "TestResults(failed=0, attempted=13)"
      ]
     },
     "execution_count": 6,
     "metadata": {},
     "output_type": "execute_result"
    }
   ],
   "source": [
    "def naturals():\n",
    "    i = 1\n",
    "    while True:\n",
    "        yield i\n",
    "        i += 1\n",
    "\n",
    "def filter(iterable, fn):\n",
    "    \"\"\"\n",
    "    >>> is_even = lambda x: x % 2 == 0\n",
    "    >>> list(filter(range(5), is_even))\n",
    "    [0, 2, 4]\n",
    "    >>> all_odd = (2*y-1 for y in range (5))\n",
    "    >>> list(filter(all_odd, is_even))\n",
    "    []\n",
    "    >>> s = filter(naturals(), is_even)\n",
    "    >>> next(s)\n",
    "    2\n",
    "    >>> next(s)\n",
    "    4\n",
    "    \"\"\"\n",
    "    for e in iterable:\n",
    "        if fn(e):\n",
    "            yield e\n",
    "import doctest\n",
    "doctest.testmod()"
   ]
  },
  {
   "cell_type": "code",
   "execution_count": 9,
   "metadata": {},
   "outputs": [
    {
     "data": {
      "text/plain": [
       "TestResults(failed=0, attempted=19)"
      ]
     },
     "execution_count": 9,
     "metadata": {},
     "output_type": "execute_result"
    }
   ],
   "source": [
    "def tree_sequence(t):\n",
    "    \"\"\"\n",
    "    >>> t = tree(1, [tree(2, [tree(5)]), tree(3, [tree(4)])])\n",
    "    >>> print(list(tree_sequence(t)))\n",
    "    [1, 2, 5, 3, 4]\n",
    "    \"\"\"\n",
    "    yield label(t)\n",
    "    for b in branches(t):\n",
    "        yield from tree_sequence(b)\n",
    "import doctest\n",
    "doctest.testmod()"
   ]
  },
  {
   "cell_type": "code",
   "execution_count": 23,
   "metadata": {},
   "outputs": [
    {
     "data": {
      "text/plain": [
       "TestResults(failed=0, attempted=23)"
      ]
     },
     "execution_count": 23,
     "metadata": {},
     "output_type": "execute_result"
    }
   ],
   "source": [
    "def make_digit_getter(n):\n",
    "    \"\"\" Returns a function that returns the next digit in n\n",
    "    each time it is called, and the total value of all the integers\n",
    "    once all the digits have been returned.\n",
    "    >>> year = 8102\n",
    "    >>> get_year_digit = make_digit_getter(year)\n",
    "    >>> for _ in range(4):\n",
    "    ...     print(next(get_year_digit))\n",
    "    2\n",
    "    0\n",
    "    1\n",
    "    8\n",
    "    >>> next(get_year_digit)\n",
    "    11\n",
    "    \"\"\"\n",
    "    i, sum = 0, 0\n",
    "    for i in reversed(range(len(str(n)))):\n",
    "        yield str(n)[i]\n",
    "        sum += int(str(n)[i])\n",
    "    yield sum\n",
    "import doctest\n",
    "doctest.testmod()"
   ]
  },
  {
   "cell_type": "markdown",
   "metadata": {},
   "source": [
    "Discussion 07: Object-Oriented Programming, Linked Lists"
   ]
  },
  {
   "cell_type": "code",
   "execution_count": null,
   "metadata": {},
   "outputs": [],
   "source": [
    "class Email:\n",
    "    \"\"\"Every email object has 3 instance attributes: the\n",
    "    message, the sender name, and the recipient name.\n",
    "    \"\"\"\n",
    "    def __init__(self, msg, sender_name, recipient_name):\n",
    "        self.msg = msg\n",
    "        self.sender_name = sender_name\n",
    "        self.recipient_name = recipient_name\n",
    "\n",
    "class Server:\n",
    "    \"\"\"Each Server has an instance attribute clients, which\n",
    "    is a dictionary that associates client names with\n",
    "    client objects.\n",
    "    \"\"\"\n",
    "    def __init__(self):\n",
    "        self.clients = {}\n",
    "    def send(self, email):\n",
    "        \"\"\"Take an email and put it in the inbox of the client\n",
    "        it is addressed to.\n",
    "        \"\"\"\n",
    "        self.clients[email.recipient_name].receive(email)\n",
    "    def register_client(self, client, client_name):\n",
    "        \"\"\"Takes a client object and client_name and adds them\n",
    "        to the clients instance attribute.\n",
    "        \"\"\"\n",
    "        self.clients[client_name] = client\n",
    "\n",
    "class Client:\n",
    "    \"\"\"Every Client has instance attributes name (which is\n",
    "    used for addressing emails to the client), server\n",
    "    (which is used to send emails out to other clients), and\n",
    "    inbox (a list of all emails the client has received).\n",
    "    \"\"\"\n",
    "    def __init__(self, server, name):\n",
    "        self.inbox = []\n",
    "        self.server = server\n",
    "        self.name = name\n",
    "    def compose(self, msg, recipient_name):\n",
    "        \"\"\"Send an email with the given message msg to the\n",
    "        given recipient client.\n",
    "        \"\"\"\n",
    "        self.server.send(Email(msg, self.name, recipient_name))\n",
    "    def receive(self, email):\n",
    "        \"\"\"Take an email and add it to the inbox of this\n",
    "        client.\n",
    "        \"\"\"\n",
    "        self.inbox.append(email)"
   ]
  },
  {
   "cell_type": "code",
   "execution_count": 5,
   "metadata": {},
   "outputs": [],
   "source": [
    "class Pet():\n",
    "    def __init__(self, name, owner):\n",
    "        self.is_alive = True # It's alive!!!\n",
    "        self.name = name\n",
    "        self.owner = owner\n",
    "    def eat(self, thing):\n",
    "        print(self.name + \" ate a \" + str(thing) + \"!\")\n",
    "    def talk(self):\n",
    "        print(self.name)\n",
    "\n",
    "class Dog(Pet):\n",
    "    def talk(self):\n",
    "        print(self.name + ' says woof!')\n",
    "\n",
    "class Cat(Pet):\n",
    "    def __init__(self, name, owner, lives=9):\n",
    "        Pet.__init__(self, name, owner)\n",
    "        self.lives = lives\n",
    "\n",
    "    def talk(self):\n",
    "        \"\"\" Print out a cat's greeting.\n",
    "        >>> Cat('Thomas', 'Tammy').talk()\n",
    "        Thomas says meow!\n",
    "        \"\"\"\n",
    "        print('{} says meow!'.format(self.name))\n",
    "    \n",
    "    def lose_life(self):\n",
    "        \"\"\"Decrements a cat's life by 1. When lives reaches zero, 'is_alive'\n",
    "        becomes False. If this is called after lives has reached zero, print out\n",
    "        that the cat has no more lives to lose.\n",
    "        \"\"\"\n",
    "        self.lives -= 1\n",
    "        if self.lives < 0:\n",
    "            print('{} has no more lives to lose.'.format(self.name))    \n",
    "        elif self.lives == 0:\n",
    "            self.is_alive = False"
   ]
  },
  {
   "cell_type": "code",
   "execution_count": null,
   "metadata": {},
   "outputs": [],
   "source": [
    "class NoisyCat(Cat): # Fill me in!\n",
    "    \"\"\"A Cat that repeats things twice.\"\"\"\n",
    "    def talk(self):\n",
    "        \"\"\"Talks twice as much as a regular cat.\n",
    "        >>> NoisyCat('Magic', 'James').talk()\n",
    "        Magic says meow!\n",
    "        Magic says meow!\n",
    "        \"\"\"\n",
    "        for _ in range(2):\n",
    "            Cat.talk(self)"
   ]
  },
  {
   "cell_type": "code",
   "execution_count": 2,
   "metadata": {},
   "outputs": [],
   "source": [
    "class Link:\n",
    "    empty = ()\n",
    "    def __init__(self, first, rest=empty):\n",
    "        assert rest is Link.empty or isinstance(rest, Link)\n",
    "        self.first = first\n",
    "        self.rest = rest\n",
    "    def __repr__(self):\n",
    "        if self.rest:\n",
    "            rest_str = ', ' + repr(self.rest)\n",
    "        else:\n",
    "            rest_str = ''\n",
    "            return 'Link({0}{1})'.format(repr(self.first), rest_str)\n",
    "    def __str__(self):\n",
    "        string = '<'\n",
    "        while self.rest is not Link.empty:\n",
    "            string += str(self.first) + ' '\n",
    "            self = self.rest\n",
    "        return string + str(self.first) + '>'"
   ]
  },
  {
   "cell_type": "code",
   "execution_count": 7,
   "metadata": {},
   "outputs": [
    {
     "data": {
      "text/plain": [
       "TestResults(failed=0, attempted=3)"
      ]
     },
     "execution_count": 7,
     "metadata": {},
     "output_type": "execute_result"
    }
   ],
   "source": [
    "def sum_nums(lnk):\n",
    "    \"\"\"\n",
    "    >>> a = Link(1, Link(6, Link(7)))\n",
    "    >>> sum_nums(a)\n",
    "    14\n",
    "    \"\"\"\n",
    "    if lnk == Link.empty:\n",
    "        return 0\n",
    "    else:\n",
    "        return lnk.first + sum_nums(lnk.rest)\n",
    "import doctest\n",
    "doctest.testmod()"
   ]
  },
  {
   "cell_type": "code",
   "execution_count": 9,
   "metadata": {},
   "outputs": [
    {
     "data": {
      "text/plain": [
       "TestResults(failed=0, attempted=10)"
      ]
     },
     "execution_count": 9,
     "metadata": {},
     "output_type": "execute_result"
    }
   ],
   "source": [
    "def multiply_lnks(lst_of_lnks):\n",
    "    \"\"\"\n",
    "    >>> a = Link(2, Link(3, Link(5)))\n",
    "    >>> b = Link(6, Link(4, Link(2)))\n",
    "    >>> c = Link(4, Link(1, Link(0, Link(2))))\n",
    "    >>> p = multiply_lnks([a, b, c])\n",
    "    >>> p.first\n",
    "    48\n",
    "    >>> p.rest.first\n",
    "    12\n",
    "    >>> p.rest.rest.rest is Link.empty\n",
    "    True\n",
    "    \"\"\"\n",
    "    if Link.empty in lst_of_lnks:\n",
    "        return Link.empty\n",
    "    else:\n",
    "        prod = 1\n",
    "        for lnk in lst_of_lnks:\n",
    "            prod *= lnk.first\n",
    "        return Link(prod, multiply_lnks([lnk.rest for lnk in lst_of_lnks]))\n",
    "import doctest\n",
    "doctest.testmod()"
   ]
  },
  {
   "cell_type": "code",
   "execution_count": 16,
   "metadata": {},
   "outputs": [
    {
     "data": {
      "text/plain": [
       "TestResults(failed=0, attempted=16)"
      ]
     },
     "execution_count": 16,
     "metadata": {},
     "output_type": "execute_result"
    }
   ],
   "source": [
    "def filter_link(link, f):\n",
    "    \"\"\"\n",
    "    >>> link = Link(1, Link(2, Link(3)))\n",
    "    >>> g = filter_link(link, lambda x: x % 2 == 0)\n",
    "    >>> next(g)\n",
    "    2\n",
    "    >>> list(filter_link(link, lambda x: x % 2 != 0))\n",
    "    [1, 3]\n",
    "    \"\"\"\n",
    "    while link != Link.empty:\n",
    "        if f(link.first):\n",
    "            yield link.first\n",
    "        link = link.rest\n",
    "\n",
    "def filter_no_iter(link, f):\n",
    "    \"\"\"\n",
    "    >>> link = Link(1, Link(2, Link(3)))\n",
    "    >>> list(filter_no_iter(link, lambda x: x % 2 != 0))\n",
    "    [1, 3]\n",
    "    \"\"\"\n",
    "    if link == Link.empty:\n",
    "        return \n",
    "    elif f(link.first):\n",
    "        yield link.first\n",
    "    yield from filter_no_iter(link.rest, f)\n",
    "\n",
    "import doctest\n",
    "doctest.testmod()"
   ]
  },
  {
   "cell_type": "code",
   "execution_count": 9,
   "metadata": {},
   "outputs": [
    {
     "data": {
      "text/plain": [
       "TestResults(failed=0, attempted=4)"
      ]
     },
     "execution_count": 9,
     "metadata": {},
     "output_type": "execute_result"
    }
   ],
   "source": [
    "def feed(snax, x, y, capacity1, capacity2):\n",
    "    \"\"\"\n",
    "    >>> feed([1, 1, 1], 0, 0, 2, 2) # The two robots both refill once at the beginning\n",
    "    2\n",
    "    >>> feed([1, 2, 2], 0, 0, 2, 2) # Only one robot refills to feed the middle student\n",
    "    3\n",
    "    >>> feed([1, 1, 1, 2, 2], 0, 0, 2, 2)\n",
    "    4\n",
    "    >>> feed([3, 2, 1, 3, 2, 1, 1, 2, 3], 0, 0, 3, 3)\n",
    "    6\n",
    "    \"\"\"\n",
    "    if not snax:\n",
    "        return 0\n",
    "    refills = 0\n",
    "    if x == 0 and y != 0:\n",
    "        refills += 1\n",
    "        x = capacity1\n",
    "    \n",
    "    if x != 0 and y == 0:\n",
    "        refills += 1\n",
    "        y = capacity2\n",
    "\n",
    "    if len(snax) == 1 and (x + y >= snax[0]):\n",
    "        return refills\n",
    "    if len(snax) == 1 and (x + y < snax[0]):\n",
    "        return refills + 1\n",
    "\n",
    "    if x == 0 and y == 0:\n",
    "        refills += 2\n",
    "        x, y = capacity1, capacity2\n",
    "    \n",
    "    snax[0] -= 1\n",
    "    x -= 1\n",
    "    if snax[0] == 0:\n",
    "        snax.pop(0)\n",
    "\n",
    "    snax[-1] -= 1\n",
    "    y -= 1\n",
    "    if snax[-1] == 0:\n",
    "        snax.pop()\n",
    "        \n",
    "    return refills + feed(snax, x, y, capacity1, capacity2)\n",
    "\n",
    "import doctest\n",
    "doctest.testmod()"
   ]
  },
  {
   "cell_type": "markdown",
   "metadata": {},
   "source": [
    "Guerrilla 03: Linked Lists, Object-Oriented Programming"
   ]
  },
  {
   "cell_type": "code",
   "execution_count": 3,
   "metadata": {},
   "outputs": [
    {
     "data": {
      "text/plain": [
       "TestResults(failed=0, attempted=3)"
      ]
     },
     "execution_count": 3,
     "metadata": {},
     "output_type": "execute_result"
    }
   ],
   "source": [
    "def has_cycle(link):\n",
    "    \"\"\"\n",
    "    >>> s = Link(1, Link(2, Link(3)))\n",
    "    >>> s.rest.rest.rest = s\n",
    "    >>> has_cycle(s)\n",
    "    True\n",
    "    \"\"\"\n",
    "    cache = {}\n",
    "    while link.rest != Link.empty:\n",
    "        if link in cache:\n",
    "            return True\n",
    "        else:\n",
    "            cache[link] = link\n",
    "            link = link.rest\n",
    "    return False\n",
    "import doctest\n",
    "doctest.testmod()"
   ]
  },
  {
   "cell_type": "code",
   "execution_count": 8,
   "metadata": {},
   "outputs": [
    {
     "data": {
      "text/plain": [
       "TestResults(failed=0, attempted=8)"
      ]
     },
     "execution_count": 8,
     "metadata": {},
     "output_type": "execute_result"
    }
   ],
   "source": [
    "def seq_in_link(link, sub_link):\n",
    "    \"\"\"\n",
    "    >>> lnk1 = Link(1, Link(2, Link(3, Link(4))))\n",
    "    >>> lnk2 = Link(1, Link(3))\n",
    "    >>> lnk3 = Link(4, Link(3, Link(2, Link(1))))\n",
    "    >>> seq_in_link(lnk1, lnk2)\n",
    "    True\n",
    "    >>> seq_in_link(lnk1, lnk3)\n",
    "    False\n",
    "    \"\"\"\n",
    "    while sub_link != Link.empty and link != Link.empty:\n",
    "        if link.first == sub_link.first:\n",
    "            sub_link = sub_link.rest\n",
    "        link = link.rest\n",
    "    return not sub_link\n",
    "import doctest\n",
    "doctest.testmod()"
   ]
  },
  {
   "cell_type": "code",
   "execution_count": 14,
   "metadata": {},
   "outputs": [
    {
     "data": {
      "text/plain": [
       "TestResults(failed=0, attempted=16)"
      ]
     },
     "execution_count": 14,
     "metadata": {},
     "output_type": "execute_result"
    }
   ],
   "source": [
    "class Cat():\n",
    "    noise = 'meow'\n",
    "    hungry = True\n",
    "    def __init__(self, name):\n",
    "        self.name = name\n",
    "    def meow(self):\n",
    "        if self.hungry:\n",
    "            print(self.noise + ', {} is hungry'.format(self.name))\n",
    "        else:\n",
    "            print(self.noise + ', my name is {}'.format(self.name))\n",
    "    def eat(self):\n",
    "        print(self.noise)\n",
    "        self.hungry = False\n",
    "\n",
    "class Kitten(Cat):\n",
    "    \"\"\"\n",
    "    >>> cat = Cat('Tuna')\n",
    "    >>> kitten = Kitten('Fish', cat)\n",
    "    >>> cat.meow()\n",
    "    meow, Tuna is hungry\n",
    "    >>> kitten.meow()\n",
    "    i'm baby, Fish is hungry\n",
    "    I want mama Tuna\n",
    "    >>> cat.eat()\n",
    "    meow\n",
    "    >>> cat.meow()\n",
    "    meow, my name is Tuna\n",
    "    >>> kitten.eat()\n",
    "    i'm baby\n",
    "    >>> kitten.meow()\n",
    "    i'm baby, my name is Fish\n",
    "    I want mama Tuna\n",
    "    \"\"\"\n",
    "    noise = 'i\\'m baby'\n",
    "    def __init__(self, name, parent):\n",
    "        self.name = name\n",
    "        self.parent = parent\n",
    "    def meow(self):\n",
    "        if self.hungry:\n",
    "            print(self.noise + ', {} is hungry'.format(self.name))\n",
    "        else:\n",
    "            Cat.meow(self)\n",
    "        print('I want mama {}'.format(self.parent.name))\n",
    "import doctest\n",
    "doctest.testmod()\n",
    "    "
   ]
  },
  {
   "cell_type": "code",
   "execution_count": 15,
   "metadata": {},
   "outputs": [
    {
     "ename": "TypeError",
     "evalue": "slice indices must be integers or None or have an __index__ method",
     "output_type": "error",
     "traceback": [
      "\u001b[1;31m---------------------------------------------------------------------------\u001b[0m",
      "\u001b[1;31mTypeError\u001b[0m                                 Traceback (most recent call last)",
      "\u001b[1;32m~\\AppData\\Local\\Temp/ipykernel_14532/3922788773.py\u001b[0m in \u001b[0;36m<module>\u001b[1;34m\u001b[0m\n\u001b[0;32m      1\u001b[0m \u001b[0ma\u001b[0m \u001b[1;33m=\u001b[0m \u001b[1;33m[\u001b[0m\u001b[0mrange\u001b[0m\u001b[1;33m(\u001b[0m\u001b[1;36m5\u001b[0m\u001b[1;33m)\u001b[0m\u001b[1;33m]\u001b[0m\u001b[1;33m\u001b[0m\u001b[1;33m\u001b[0m\u001b[0m\n\u001b[1;32m----> 2\u001b[1;33m \u001b[0mhalf\u001b[0m \u001b[1;33m=\u001b[0m \u001b[0ma\u001b[0m\u001b[1;33m[\u001b[0m\u001b[1;33m:\u001b[0m\u001b[0mlen\u001b[0m\u001b[1;33m(\u001b[0m\u001b[0ma\u001b[0m\u001b[1;33m)\u001b[0m\u001b[1;33m/\u001b[0m\u001b[1;36m2\u001b[0m\u001b[1;33m]\u001b[0m\u001b[1;33m\u001b[0m\u001b[1;33m\u001b[0m\u001b[0m\n\u001b[0m\u001b[0;32m      3\u001b[0m \u001b[0mhalf\u001b[0m\u001b[1;33m\u001b[0m\u001b[1;33m\u001b[0m\u001b[0m\n",
      "\u001b[1;31mTypeError\u001b[0m: slice indices must be integers or None or have an __index__ method"
     ]
    }
   ],
   "source": [
    "a = [range(5)]\n",
    "half = a[:len(a)/2]\n",
    "half"
   ]
  }
 ],
 "metadata": {
  "kernelspec": {
   "display_name": "Python 3.9.5 64-bit",
   "language": "python",
   "name": "python3"
  },
  "language_info": {
   "codemirror_mode": {
    "name": "ipython",
    "version": 3
   },
   "file_extension": ".py",
   "mimetype": "text/x-python",
   "name": "python",
   "nbconvert_exporter": "python",
   "pygments_lexer": "ipython3",
   "version": "3.9.5"
  },
  "orig_nbformat": 4,
  "vscode": {
   "interpreter": {
    "hash": "0d591c6e422414675974e227c13f5382000c440fedd3c5006ef2be5d887f0ba7"
   }
  }
 },
 "nbformat": 4,
 "nbformat_minor": 2
}
