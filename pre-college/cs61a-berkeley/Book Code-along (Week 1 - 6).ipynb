{
 "cells": [
  {
   "cell_type": "markdown",
   "metadata": {},
   "source": [
    "1.6.1: Functions as Arguments"
   ]
  },
  {
   "cell_type": "code",
   "execution_count": null,
   "metadata": {},
   "outputs": [],
   "source": [
    "def summation(n, func):\n",
    "    k, res = 1, 0\n",
    "    while k <= n:\n",
    "        res, k = res + func(k), k + 1\n",
    "    return res\n",
    "\n",
    "def cube(x):\n",
    "    return x*x*x\n",
    "\n",
    "def identity(x):\n",
    "    return x\n",
    "\n",
    "def pi_term(x):\n",
    "    return 8/((4 * x - 3) * (4 * x - 1))\n",
    "\n",
    "def sum_cubes(n):\n",
    "    return summation(n, cube)\n",
    "\n",
    "def sum_naturals(n):\n",
    "    return summation(n, identity)\n",
    "\n",
    "def pi_sum(n):\n",
    "    return summation(n, pi_term)"
   ]
  },
  {
   "cell_type": "code",
   "execution_count": 25,
   "metadata": {},
   "outputs": [
    {
     "data": {
      "text/plain": [
       "3025"
      ]
     },
     "execution_count": 25,
     "metadata": {},
     "output_type": "execute_result"
    }
   ],
   "source": [
    "sum_cubes(10)"
   ]
  },
  {
   "cell_type": "code",
   "execution_count": 26,
   "metadata": {},
   "outputs": [
    {
     "data": {
      "text/plain": [
       "55"
      ]
     },
     "execution_count": 26,
     "metadata": {},
     "output_type": "execute_result"
    }
   ],
   "source": [
    "sum_naturals(10)"
   ]
  },
  {
   "cell_type": "code",
   "execution_count": 27,
   "metadata": {},
   "outputs": [
    {
     "data": {
      "text/plain": [
       "3.141092653621038"
      ]
     },
     "execution_count": 27,
     "metadata": {},
     "output_type": "execute_result"
    }
   ],
   "source": [
    "pi_sum(1000)"
   ]
  },
  {
   "cell_type": "markdown",
   "metadata": {},
   "source": [
    "1.6.2 Functions as General Methods"
   ]
  },
  {
   "cell_type": "code",
   "execution_count": 28,
   "metadata": {},
   "outputs": [],
   "source": [
    "def improve(close, update, guess = 1):\n",
    "    while not close(guess):\n",
    "        guess = update(guess)\n",
    "    return guess"
   ]
  },
  {
   "cell_type": "code",
   "execution_count": 29,
   "metadata": {},
   "outputs": [],
   "source": [
    "def golden_update(guess):\n",
    "    return 1/guess + 1\n",
    "\n",
    "def golden_close(guess):\n",
    "    return approx_eq(guess * guess, guess + 1)\n",
    "\n",
    "def approx_eq(x, y, threshold = 1e-15):\n",
    "    return abs(x - y) < threshold"
   ]
  },
  {
   "cell_type": "code",
   "execution_count": 30,
   "metadata": {},
   "outputs": [
    {
     "data": {
      "text/plain": [
       "1.6180339887498951"
      ]
     },
     "execution_count": 30,
     "metadata": {},
     "output_type": "execute_result"
    }
   ],
   "source": [
    "improve(golden_close, golden_update, -100000000)"
   ]
  },
  {
   "cell_type": "markdown",
   "metadata": {},
   "source": [
    "1.6.3: Defining Functions III: Nested Definitions"
   ]
  },
  {
   "cell_type": "code",
   "execution_count": 31,
   "metadata": {},
   "outputs": [],
   "source": [
    "def sqrt(a):\n",
    "    def sqrt_update(x):\n",
    "        return (x + a/x) / 2\n",
    "    def sqrt_close(x):\n",
    "        return approx_eq(x * x, a)\n",
    "    return improve(sqrt_close, sqrt_update)"
   ]
  },
  {
   "cell_type": "code",
   "execution_count": 32,
   "metadata": {},
   "outputs": [
    {
     "data": {
      "text/plain": [
       "3.0"
      ]
     },
     "execution_count": 32,
     "metadata": {},
     "output_type": "execute_result"
    }
   ],
   "source": [
    "sqrt(9)"
   ]
  },
  {
   "cell_type": "markdown",
   "metadata": {},
   "source": [
    "1.6.4: Functions as Returned Values"
   ]
  },
  {
   "cell_type": "code",
   "execution_count": 33,
   "metadata": {},
   "outputs": [
    {
     "data": {
      "text/plain": [
       "' def compose1(f, g):\\n    def h(x):\\n        return f(g(x))\\n    return h '"
      ]
     },
     "execution_count": 33,
     "metadata": {},
     "output_type": "execute_result"
    }
   ],
   "source": [
    "\"\"\" def compose1(f, g):\n",
    "    def h(x):\n",
    "        return f(g(x))\n",
    "    return h \"\"\""
   ]
  },
  {
   "cell_type": "code",
   "execution_count": 34,
   "metadata": {},
   "outputs": [],
   "source": [
    "def square(x):\n",
    "    return x * x\n",
    "\n",
    "def successor(x):\n",
    "    return x + 1"
   ]
  },
  {
   "cell_type": "code",
   "execution_count": 35,
   "metadata": {},
   "outputs": [
    {
     "ename": "NameError",
     "evalue": "name 'compose1' is not defined",
     "output_type": "error",
     "traceback": [
      "\u001b[1;31m---------------------------------------------------------------------------\u001b[0m",
      "\u001b[1;31mNameError\u001b[0m                                 Traceback (most recent call last)",
      "\u001b[1;32m~\\AppData\\Local\\Temp/ipykernel_13128/2142387240.py\u001b[0m in \u001b[0;36m<module>\u001b[1;34m\u001b[0m\n\u001b[1;32m----> 1\u001b[1;33m \u001b[0msuccessor_squared\u001b[0m \u001b[1;33m=\u001b[0m \u001b[0mcompose1\u001b[0m\u001b[1;33m(\u001b[0m\u001b[0msquare\u001b[0m\u001b[1;33m,\u001b[0m \u001b[0msuccessor\u001b[0m\u001b[1;33m)\u001b[0m\u001b[1;33m\u001b[0m\u001b[1;33m\u001b[0m\u001b[0m\n\u001b[0m\u001b[0;32m      2\u001b[0m \u001b[0msuccessor_squared\u001b[0m\u001b[1;33m(\u001b[0m\u001b[1;36m12\u001b[0m\u001b[1;33m)\u001b[0m\u001b[1;33m\u001b[0m\u001b[1;33m\u001b[0m\u001b[0m\n",
      "\u001b[1;31mNameError\u001b[0m: name 'compose1' is not defined"
     ]
    }
   ],
   "source": [
    "successor_squared = compose1(square, successor)\n",
    "successor_squared(12)"
   ]
  },
  {
   "cell_type": "code",
   "execution_count": null,
   "metadata": {},
   "outputs": [],
   "source": [
    "def make_adder(f):\n",
    "    def adder(k):\n",
    "        return f + k\n",
    "    return adder"
   ]
  },
  {
   "cell_type": "code",
   "execution_count": null,
   "metadata": {},
   "outputs": [],
   "source": [
    "add3 = make_adder(3)\n",
    "add3(2) "
   ]
  },
  {
   "cell_type": "markdown",
   "metadata": {},
   "source": [
    "1.6.5: Example Newton's Method"
   ]
  },
  {
   "cell_type": "code",
   "execution_count": null,
   "metadata": {},
   "outputs": [],
   "source": [
    "def newton_update(f, df):\n",
    "    def update(x):\n",
    "        return x - f(x)/df(x)\n",
    "    return update\n",
    "\n",
    "def find_zero(f, df):\n",
    "    def near_zero(x):\n",
    "        return approx_eq(f(x), 0)\n",
    "    return improve(near_zero, newton_update(f, df))"
   ]
  },
  {
   "cell_type": "code",
   "execution_count": null,
   "metadata": {},
   "outputs": [],
   "source": [
    "def square_root_newton(a):\n",
    "    def f(x):\n",
    "        return x * x - a\n",
    "    def df(x):\n",
    "        return 2 * x\n",
    "    return find_zero(f, df)"
   ]
  },
  {
   "cell_type": "code",
   "execution_count": null,
   "metadata": {},
   "outputs": [],
   "source": [
    "square_root_newton(64)"
   ]
  },
  {
   "cell_type": "code",
   "execution_count": null,
   "metadata": {},
   "outputs": [],
   "source": [
    "def power(x, n):\n",
    "    product, k = 1, 0\n",
    "    while k < n:\n",
    "        product, k = product * x, k + 1\n",
    "    return product"
   ]
  },
  {
   "cell_type": "code",
   "execution_count": null,
   "metadata": {},
   "outputs": [],
   "source": [
    "def nth_root_newton(a, n):\n",
    "    def f(x):\n",
    "        return power(x, n) - a\n",
    "    def df(x):\n",
    "        return n * power(x, n - 1)\n",
    "    return find_zero(f, df)"
   ]
  },
  {
   "cell_type": "code",
   "execution_count": null,
   "metadata": {},
   "outputs": [],
   "source": [
    "nth_root_newton(100, 2)"
   ]
  },
  {
   "cell_type": "markdown",
   "metadata": {},
   "source": [
    "1.6.6: Currying"
   ]
  },
  {
   "cell_type": "code",
   "execution_count": null,
   "metadata": {},
   "outputs": [],
   "source": [
    "def curried_pow(x):\n",
    "    def h(y):\n",
    "        return pow(x, y)\n",
    "    return h\n"
   ]
  },
  {
   "cell_type": "code",
   "execution_count": null,
   "metadata": {},
   "outputs": [],
   "source": [
    "curried_pow(5)(5)"
   ]
  },
  {
   "cell_type": "code",
   "execution_count": null,
   "metadata": {},
   "outputs": [],
   "source": [
    "def map_to_range(start, end, f):\n",
    "    while start < end:\n",
    "        print(f(start))\n",
    "        start += 1"
   ]
  },
  {
   "cell_type": "code",
   "execution_count": null,
   "metadata": {},
   "outputs": [],
   "source": [
    "map_to_range(0, 10, curried_pow(5))"
   ]
  },
  {
   "cell_type": "code",
   "execution_count": null,
   "metadata": {},
   "outputs": [],
   "source": [
    "def curry2(f):\n",
    "    \"\"\"Return a curried version of the given two-argument function.\"\"\"\n",
    "    def g(x):\n",
    "        def h(y):\n",
    "            return f(x, y)\n",
    "        return h\n",
    "    return g\n",
    "\n",
    "def uncurry2(g):\n",
    "    \"\"\"Return a two-argument version of the given curried function.\"\"\"\n",
    "    def f(x, y):\n",
    "        return g(x)(y) \n",
    "    return f"
   ]
  },
  {
   "cell_type": "code",
   "execution_count": null,
   "metadata": {},
   "outputs": [],
   "source": [
    "pow_curried = curry2(pow)\n",
    "pow_curried(5)(6)"
   ]
  },
  {
   "cell_type": "code",
   "execution_count": null,
   "metadata": {},
   "outputs": [],
   "source": [
    "uncurry2(pow_curried)(5, 6)"
   ]
  },
  {
   "cell_type": "markdown",
   "metadata": {},
   "source": [
    "1.6.7: Lambda Expressions"
   ]
  },
  {
   "cell_type": "code",
   "execution_count": null,
   "metadata": {},
   "outputs": [],
   "source": [
    "def compose1(f, g):\n",
    "    return lambda x: f(g(x))\n",
    "\n",
    "\"\"\"compose1 = lambda f,g: lambda x: f(g(x))\"\"\""
   ]
  },
  {
   "cell_type": "code",
   "execution_count": null,
   "metadata": {},
   "outputs": [],
   "source": [
    "s = lambda x: x * x\n",
    "s(12)"
   ]
  },
  {
   "cell_type": "markdown",
   "metadata": {},
   "source": [
    "1.6.9: Function Decorators"
   ]
  },
  {
   "cell_type": "code",
   "execution_count": null,
   "metadata": {},
   "outputs": [],
   "source": [
    "def trace(fn):\n",
    "        def wrapped(x):\n",
    "            print('-> ', fn, '(', x, ')')\n",
    "            return fn(x)\n",
    "        return wrapped"
   ]
  },
  {
   "cell_type": "code",
   "execution_count": null,
   "metadata": {},
   "outputs": [],
   "source": [
    "h = trace(pow_curried)\n",
    "h(50)(2)"
   ]
  },
  {
   "cell_type": "code",
   "execution_count": null,
   "metadata": {},
   "outputs": [],
   "source": [
    "@trace\n",
    "def triple(x):\n",
    "    \"\"\"The @ decorator affects the def statement, triple is not bound to this function.\n",
    "    Insted the name triple is bound to the returned function value of calling trace\n",
    "    on the newly defined triple function. It is equivalent to \n",
    "    def triple(x):\n",
    "        return x * 3\n",
    "    triple = trace(triple)\"\"\"\n",
    "    return 3 * x"
   ]
  },
  {
   "cell_type": "code",
   "execution_count": null,
   "metadata": {},
   "outputs": [],
   "source": [
    "triple(5)"
   ]
  },
  {
   "cell_type": "markdown",
   "metadata": {},
   "source": [
    "Lecture 6: Iteration"
   ]
  },
  {
   "cell_type": "markdown",
   "metadata": {},
   "source": [
    "Inverse Function"
   ]
  },
  {
   "cell_type": "code",
   "execution_count": null,
   "metadata": {},
   "outputs": [],
   "source": [
    "def search(f):\n",
    "    x = 0\n",
    "    while not f(x):\n",
    "        x += 1\n",
    "    return x\n",
    "\n",
    "def inverse(f):\n",
    "    \"\"\"Return g(y) such that g(f(x)) = x.\"\"\"\n",
    "    return lambda y: search(lambda x: f(x) == y)\n",
    "\n",
    "def square(x):\n",
    "    return x * x\n",
    "\n",
    "sqrt = inverse(square)\n",
    "sqrt(256)"
   ]
  },
  {
   "cell_type": "markdown",
   "metadata": {},
   "source": [
    "Self-reference"
   ]
  },
  {
   "cell_type": "code",
   "execution_count": null,
   "metadata": {},
   "outputs": [],
   "source": [
    "def print_sum(x):\n",
    "    print(x)\n",
    "    def next_sum(y):\n",
    "        return print_sum(x + y)\n",
    "    return next_sum\n",
    "\n",
    "print_sum(1)(3)(5)"
   ]
  },
  {
   "cell_type": "code",
   "execution_count": null,
   "metadata": {},
   "outputs": [],
   "source": [
    "def isPalindrome(s):\n",
    "    return s == s[::-1]\n",
    "\n",
    "isPalindrome(\"liil\")"
   ]
  },
  {
   "cell_type": "markdown",
   "metadata": {},
   "source": [
    "1.7: Recursive Functions"
   ]
  },
  {
   "cell_type": "code",
   "execution_count": null,
   "metadata": {},
   "outputs": [],
   "source": [
    "#Sum of digits\n",
    "def sum_digits(n):\n",
    "    if n < 10:\n",
    "        return n\n",
    "    last, all_but_last = n % 10, n // 10\n",
    "    return last + sum_digits(all_but_last)"
   ]
  },
  {
   "cell_type": "code",
   "execution_count": null,
   "metadata": {},
   "outputs": [],
   "source": [
    "#Factorial\n",
    "def fact(n):\n",
    "    if n == 1:\n",
    "        return 1\n",
    "    else:\n",
    "        return n * fact(n - 1)\n",
    "fact(10)"
   ]
  },
  {
   "cell_type": "markdown",
   "metadata": {},
   "source": [
    "1.7.2: Mutual Recursion"
   ]
  },
  {
   "cell_type": "code",
   "execution_count": null,
   "metadata": {},
   "outputs": [],
   "source": [
    "def is_even(n):\n",
    "    if n == 0:\n",
    "        return True\n",
    "    else:\n",
    "        return is_odd(n - 1)\n",
    "\n",
    "def is_odd(n):\n",
    "    if n == 0:\n",
    "        return False\n",
    "    else:\n",
    "        return is_even(n - 1)"
   ]
  },
  {
   "cell_type": "code",
   "execution_count": null,
   "metadata": {},
   "outputs": [],
   "source": [
    "def cascade(n):\n",
    "    \"\"\"\"Print a cascade of prefixes of n\"\"\"\n",
    "    if n < 10:\n",
    "        print(n)\n",
    "    else:\n",
    "        print(n)\n",
    "        cascade(n // 10)\n",
    "        print(n)\n",
    "cascade(20134)"
   ]
  },
  {
   "cell_type": "code",
   "execution_count": null,
   "metadata": {},
   "outputs": [],
   "source": [
    "def play_alice(n):\n",
    "    if n == 0:\n",
    "        print(\"Bob wins\")\n",
    "    else:\n",
    "        play_bob(n - 1)\n",
    "\n",
    "def play_bob(n):\n",
    "    if n == 0:\n",
    "        print(\"Alice wins\")\n",
    "    else:\n",
    "        if is_even(n):\n",
    "            play_alice(n - 2)\n",
    "        else:\n",
    "            play_alice(n - 1)\n",
    "play_alice(20)"
   ]
  },
  {
   "cell_type": "markdown",
   "metadata": {},
   "source": [
    "1.7.4: Tree Recursion"
   ]
  },
  {
   "cell_type": "code",
   "execution_count": null,
   "metadata": {},
   "outputs": [],
   "source": [
    "def fib(n):\n",
    "    if n == 1:\n",
    "        return 0\n",
    "    if n == 2:\n",
    "        return 1\n",
    "    else:\n",
    "        return fib(n - 1) + fib(n - 2)"
   ]
  },
  {
   "cell_type": "markdown",
   "metadata": {},
   "source": [
    "1.7.5: Example Partitions"
   ]
  },
  {
   "cell_type": "code",
   "execution_count": null,
   "metadata": {},
   "outputs": [],
   "source": [
    "def count_partitions(n, m):\n",
    "    if n == 0:\n",
    "        return 1\n",
    "    elif n < 0:\n",
    "        return 0\n",
    "    elif m == 0:\n",
    "        return 0\n",
    "    else:\n",
    "        return count_partitions(n - m, m) + count_partitions(n, m - 1)\n",
    "\n",
    "count_partitions(6,4)"
   ]
  },
  {
   "cell_type": "markdown",
   "metadata": {},
   "source": [
    "Lecture 9: Recursion"
   ]
  },
  {
   "cell_type": "code",
   "execution_count": null,
   "metadata": {},
   "outputs": [],
   "source": [
    "#Luhn algorithm\n",
    "def split(n):\n",
    "    return n % 10, n // 10\n",
    "\n",
    "def luhn_sum_iter(n):\n",
    "    k, temp, total = 1, n, 0\n",
    "    while temp > 0:\n",
    "        last, all_but_last = split(temp)\n",
    "        temp = all_but_last\n",
    "        if k % 2 == 1:\n",
    "            if last * 2 > 9:\n",
    "                total += sum_digits(last * 2)\n",
    "            else:\n",
    "                total += last * 2\n",
    "        else:\n",
    "            total += last\n",
    "        k += 1\n",
    "    return total\n",
    "\n",
    "def luhn_sum_recursion(n):\n",
    "    if n < 10:\n",
    "        return n\n",
    "    else:\n",
    "        last, all_but_last = split(n)\n",
    "        return luhn_sum_double(all_but_last) + last\n",
    "\n",
    "def luhn_sum_double(n):\n",
    "    if n < 5:\n",
    "        return n * 2\n",
    "    else:\n",
    "        last, all_but_last = split(n)\n",
    "        return sum_digits(last * 2) + luhn_sum_recursion(all_but_last)\n",
    "\n",
    "def luhn_check(n):\n",
    "    if n % 10 == 0:\n",
    "        return True\n",
    "    else:\n",
    "        return False\n",
    "luhn_sum_recursion(138743)\n"
   ]
  },
  {
   "cell_type": "markdown",
   "metadata": {},
   "source": [
    "Lecture 10: Tree Recursion"
   ]
  },
  {
   "cell_type": "code",
   "execution_count": null,
   "metadata": {},
   "outputs": [],
   "source": [
    "def inverse_cascade(n):\n",
    "    def f_then_g(f, g, n):\n",
    "        if n:\n",
    "            f(n)\n",
    "            g(n)\n",
    "    grow = lambda n: f_then_g(grow, print, n // 10)\n",
    "    shrink = lambda n: f_then_g(print, shrink, n // 10)\n",
    "    grow(n)\n",
    "    print(n)\n",
    "    shrink(n)\n",
    "inverse_cascade(1234)"
   ]
  },
  {
   "cell_type": "code",
   "execution_count": null,
   "metadata": {},
   "outputs": [],
   "source": [
    "def near_largest_change(num):\n",
    "    i = 0\n",
    "    while num != 1:\n",
    "        num //= 2\n",
    "        i += 1\n",
    "    return i\n",
    "near_largest_change(100)"
   ]
  },
  {
   "cell_type": "markdown",
   "metadata": {},
   "source": [
    "2.3.3: Sequence Processing"
   ]
  },
  {
   "cell_type": "code",
   "execution_count": null,
   "metadata": {},
   "outputs": [
    {
     "data": {
      "text/plain": [
       "[1, 6, 28, 496]"
      ]
     },
     "execution_count": 17,
     "metadata": {},
     "output_type": "execute_result"
    }
   ],
   "source": [
    "def divisors(n):\n",
    "    return [1] + [x for x in range(2, n) if n % x == 0]\n",
    "[x for x in range(1, 1000) if x == sum(divisors(x))]"
   ]
  },
  {
   "cell_type": "code",
   "execution_count": null,
   "metadata": {},
   "outputs": [],
   "source": [
    "def width(area, height):\n",
    "    assert area % height == 0\n",
    "    return area // height\n",
    "\n",
    "def perimeter(width, height):\n",
    "    return 2 * (width + height)\n",
    "\n",
    "def minimum_perimeter(area):\n",
    "    heights = divisors(area)\n",
    "    perimeters = [perimeter(width(area, h), h) for h in heights]\n",
    "    return min(perimeters)\n",
    "\n",
    "minimum_perimeter(80)"
   ]
  },
  {
   "cell_type": "markdown",
   "metadata": {},
   "source": [
    "2.2.1: Rational Numbers"
   ]
  },
  {
   "cell_type": "code",
   "execution_count": null,
   "metadata": {},
   "outputs": [],
   "source": [
    "def gcd(a, b):\n",
    "    if b == 1:\n",
    "        return 1\n",
    "    elif a >= b:\n",
    "        if a % b == 0:\n",
    "            return b\n",
    "        else:\n",
    "            return gcd(b, a % b)\n",
    "    else:\n",
    "        return gcd(b, a)"
   ]
  },
  {
   "cell_type": "code",
   "execution_count": null,
   "metadata": {},
   "outputs": [],
   "source": [
    "#Rational Numbers Representation\n",
    "def rational(n, d):\n",
    "    return [n // gcd(n, d), d // gcd(n, d)]\n",
    "\n",
    "def numer(x):\n",
    "    return x[0]\n",
    "\n",
    "def denom(x):\n",
    "    return x[1]"
   ]
  },
  {
   "cell_type": "code",
   "execution_count": null,
   "metadata": {},
   "outputs": [],
   "source": [
    "#Operations on rational numbers defined in terms of selectors and constructor \n",
    "def add_rationals(x, y):\n",
    "    nx, dx = numer(x), denom(x)\n",
    "    ny, dy = numer(y), denom(y)\n",
    "    return rational(nx * dy + ny * dx, dx * dy)\n",
    "\n",
    "def mul_rationals(x, y):\n",
    "    return rational(numer(x) * numer(y), denom(x) * denom(y))\n",
    "\n",
    "def print_rationals(x):\n",
    "    print(numer(x), '/', denom(x))\n",
    "\n",
    "def rationals_are_equal(x, y):\n",
    "    return numer(x) * denom(y) == numer(y) * denom(x)"
   ]
  },
  {
   "cell_type": "code",
   "execution_count": null,
   "metadata": {},
   "outputs": [],
   "source": [
    "#Defining pairs (same usage as built-in pair constructed from list type)\n",
    "def pair(x, y):\n",
    "    \"\"\"Return a function that represents a pair\"\"\"\n",
    "    def get(index):\n",
    "        if index == 0:\n",
    "            return x\n",
    "        elif index == 1:\n",
    "            return y\n",
    "    return get\n",
    "\n",
    "def select(p, i):\n",
    "    \"\"\"\"Return the element at index i of pair p\"\"\"\n",
    "    return p(i)\n",
    "\n",
    "p = pair(69, 420)\n",
    "select(p, 0) == p(0)"
   ]
  },
  {
   "cell_type": "code",
   "execution_count": null,
   "metadata": {},
   "outputs": [],
   "source": [
    "\n",
    "# Python program to show time by perf_counter()\n",
    "from time import perf_counter\n",
    "t1_start = perf_counter()\n",
    "\n",
    "# Stop the stopwatch / counter\n",
    "t1_stop = perf_counter()\n",
    " \n",
    "print(\"Elapsed time:\", t1_stop, t1_start)\n",
    " \n",
    " \n",
    "print(\"Elapsed time during the whole program in seconds:\",\n",
    "                                        t1_stop-t1_start)"
   ]
  },
  {
   "cell_type": "markdown",
   "metadata": {},
   "source": [
    "2.3.6: Trees"
   ]
  },
  {
   "cell_type": "code",
   "execution_count": 36,
   "metadata": {},
   "outputs": [],
   "source": [
    "def tree(root_label, branches = []):\n",
    "    for branch in branches:\n",
    "        assert is_tree(branch)\n",
    "    return [root_label] + list(branches)\n",
    "\n",
    "def label(tree):\n",
    "    return tree[0]\n",
    "\n",
    "def branches(tree):\n",
    "    return tree[1:]\n",
    "\n",
    "def is_tree(tree):\n",
    "    if type(tree) != list or len(tree) < 1:\n",
    "        return False\n",
    "    for branch in branches(tree):\n",
    "        if not is_tree(branch): #Each branch is a tree\n",
    "            return False\n",
    "    return True\n",
    "\n",
    "def is_leaf(tree):\n",
    "    return not branches(tree) #Trees with no branches are leaves\n"
   ]
  },
  {
   "cell_type": "code",
   "execution_count": null,
   "metadata": {},
   "outputs": [
    {
     "name": "stdout",
     "output_type": "stream",
     "text": [
      "1\n",
      "[[5], [3, [5]]]\n",
      "5\n"
     ]
    }
   ],
   "source": [
    "t = tree(1, [tree(5), tree(3, [tree(5)])])\n",
    "print(label(t))\n",
    "print(branches(t))\n",
    "print(label(branches(t)[0]))"
   ]
  },
  {
   "cell_type": "code",
   "execution_count": null,
   "metadata": {},
   "outputs": [
    {
     "data": {
      "text/plain": [
       "[5, [2, [1], [1, [0], [1]]], [3, [1, [0], [1]], [2, [1], [1, [0], [1]]]]]"
      ]
     },
     "execution_count": 51,
     "metadata": {},
     "output_type": "execute_result"
    }
   ],
   "source": [
    "#A function to construct Fibonacci tree\n",
    "def fib_tree(n):\n",
    "    if n <= 1:\n",
    "        return tree(n)\n",
    "    else:\n",
    "        left, right = fib_tree(n - 2), fib_tree(n - 1)\n",
    "        return tree(label(left) + label(right), [left, right])\n",
    "fib_tree(5)"
   ]
  },
  {
   "cell_type": "code",
   "execution_count": null,
   "metadata": {},
   "outputs": [
    {
     "data": {
      "text/plain": [
       "8"
      ]
     },
     "execution_count": 52,
     "metadata": {},
     "output_type": "execute_result"
    }
   ],
   "source": [
    "def count_leaves(tree):\n",
    "    \"\"\"\"Count the leaves of a tree\"\"\"\n",
    "    if is_leaf(tree):\n",
    "        return 1\n",
    "    else:\n",
    "        branch_leaf_counts = [count_leaves(branch) for branch in branches(tree)] #Make a recursive call on each branch\n",
    "        return sum(branch_leaf_counts) #Aggregates\n",
    "count_leaves(fib_tree(5))"
   ]
  },
  {
   "cell_type": "code",
   "execution_count": null,
   "metadata": {},
   "outputs": [
    {
     "data": {
      "text/plain": [
       "[1, 0, 1, 0, 1, 1, 0, 1]"
      ]
     },
     "execution_count": 68,
     "metadata": {},
     "output_type": "execute_result"
    }
   ],
   "source": [
    "def leaves(tree):\n",
    "    \"\"\"Return a list of the leaf labels of a tree\"\"\"\n",
    "    if is_leaf(tree):\n",
    "        return [label(tree)]\n",
    "    else:\n",
    "        leaf_labels = [leaves(branch) for branch in branches(tree)]\n",
    "        return sum(leaf_labels, [])\n",
    "leaves(fib_tree(5))"
   ]
  },
  {
   "cell_type": "code",
   "execution_count": null,
   "metadata": {},
   "outputs": [],
   "source": [
    "def increment_leaves(t):\n",
    "    \"\"\"Return a tree like t but with leaf labels incremented\"\"\"\n",
    "    if is_leaf(t):\n",
    "        return tree(label(t) + 1)\n",
    "    else:\n",
    "        incremented_branches = [increment_leaves(branch) for branch in branches(t)]\n",
    "        return tree(label(t), incremented_branches)\n",
    "\n",
    "def increment(t):\n",
    "    \"\"\"\"Return a tree like t but with all labels incremented\"\"\"\n",
    "    return tree(label(t) + 1, [increment(branch) for branch in branches(t)])"
   ]
  },
  {
   "cell_type": "code",
   "execution_count": null,
   "metadata": {},
   "outputs": [
    {
     "name": "stdout",
     "output_type": "stream",
     "text": [
      "3\n",
      " 1\n",
      "  0\n",
      "  1\n",
      " 2\n",
      "  1\n",
      "  1\n",
      "   0\n",
      "   1\n"
     ]
    }
   ],
   "source": [
    "def print_tree(t, indent = 0):\n",
    "    print(' ' * indent + str(label(t)))\n",
    "    for branch in branches(t):\n",
    "        print_tree(branch, indent + 1)\n",
    "print_tree(fib_tree(4))"
   ]
  },
  {
   "cell_type": "code",
   "execution_count": null,
   "metadata": {},
   "outputs": [
    {
     "data": {
      "text/plain": [
       "4"
      ]
     },
     "execution_count": 20,
     "metadata": {},
     "output_type": "execute_result"
    }
   ],
   "source": [
    "def partition_tree(n, m):\n",
    "    \"\"\"Return a partition tree of n using parts up to m.\"\"\"\n",
    "    if n == 0:\n",
    "        return tree(True)\n",
    "    elif n < 0 or m == 0:\n",
    "        return tree(False)\n",
    "    else:\n",
    "        left = partition_tree(n - m, m)\n",
    "        right = partition_tree (n, m - 1)\n",
    "        return tree(m, [left, right])\n",
    "partition_tree(2, 2)\n",
    "count_leaves(partition_tree(2, 2))"
   ]
  },
  {
   "cell_type": "code",
   "execution_count": null,
   "metadata": {},
   "outputs": [
    {
     "name": "stdout",
     "output_type": "stream",
     "text": [
      "4 + 2\n",
      "4 + 1 + 1\n",
      "3 + 3\n",
      "3 + 2 + 1\n",
      "3 + 1 + 1 + 1\n",
      "2 + 2 + 2\n",
      "2 + 2 + 1 + 1\n",
      "2 + 1 + 1 + 1 + 1\n",
      "1 + 1 + 1 + 1 + 1 + 1\n"
     ]
    }
   ],
   "source": [
    "def print_parts(tree, partition = []):\n",
    "    \"\"\"Traverse the tree and construct each partition as a list. Print the partition whenever a True leaf is reached\"\"\"\n",
    "    if is_leaf(tree):\n",
    "        if label(tree):\n",
    "            print(' + '.join(partition))\n",
    "    else:\n",
    "        left, right = branches(tree)\n",
    "        m = str(label(tree))\n",
    "        print_parts(left, partition + [m])\n",
    "        print_parts(right, partition)\n",
    "print_parts(partition_tree(6, 4))"
   ]
  },
  {
   "cell_type": "markdown",
   "metadata": {},
   "source": [
    "2.3.7: Linked Lists"
   ]
  },
  {
   "cell_type": "code",
   "execution_count": null,
   "metadata": {},
   "outputs": [],
   "source": [
    "empty = 'empty'\n",
    "def is_link(s):\n",
    "    \"\"\"s is a linked list if it is empty or a (first, rest) pair.\"\"\"\n",
    "    return s == empty or (len(s) == 2 and is_link(s[1]))\n",
    "\n",
    "def link(first, rest):\n",
    "    \"\"\"Construct a linked list from its first element and the rest.\"\"\"\n",
    "    assert is_link(rest), \"rest must be a linked list.\"\n",
    "    return [first, rest]\n",
    "\n",
    "def first(s):\n",
    "    \"\"\"Return the first element of a linked list.\"\"\"\n",
    "    assert is_link(s), \"first only applies to linked lists\"\n",
    "    assert s != empty, \"empty linked list has no first element\"\n",
    "    return s[0]\n",
    "\n",
    "def rest(s):\n",
    "    \"\"\"Return the rest of the elements of a linked list s.\"\"\"\n",
    "    assert is_link(s), \"rest only applies to linked lists.\"\n",
    "    assert s != empty, \"empty linked list has no rest.\"\n",
    "    return s[1]"
   ]
  },
  {
   "cell_type": "code",
   "execution_count": null,
   "metadata": {},
   "outputs": [
    {
     "data": {
      "text/plain": [
       "1"
      ]
     },
     "execution_count": 5,
     "metadata": {},
     "output_type": "execute_result"
    }
   ],
   "source": [
    "four = link(1, link(2, link(3, link(4, empty))))\n",
    "first(four)"
   ]
  },
  {
   "cell_type": "code",
   "execution_count": null,
   "metadata": {},
   "outputs": [
    {
     "data": {
      "text/plain": [
       "[2, [3, [4, 'empty']]]"
      ]
     },
     "execution_count": 6,
     "metadata": {},
     "output_type": "execute_result"
    }
   ],
   "source": [
    "rest(four)"
   ]
  },
  {
   "cell_type": "code",
   "execution_count": null,
   "metadata": {},
   "outputs": [],
   "source": [
    "def len_link(s):\n",
    "    \"\"\"Return the length of linked list s.\"\"\"\n",
    "    length = 0\n",
    "    while s != empty:\n",
    "        length, s = length + 1, rest(s)\n",
    "    return length\n",
    "\n",
    "def getitem_link(s, i):\n",
    "    \"\"\"Return the element at index i of linked list s.\"\"\"\n",
    "    while i > 0:\n",
    "        s, i = rest(s), i - 1\n",
    "        return first(s)"
   ]
  },
  {
   "cell_type": "code",
   "execution_count": null,
   "metadata": {},
   "outputs": [
    {
     "data": {
      "text/plain": [
       "4"
      ]
     },
     "execution_count": 8,
     "metadata": {},
     "output_type": "execute_result"
    }
   ],
   "source": [
    "len_link(four)"
   ]
  },
  {
   "cell_type": "code",
   "execution_count": null,
   "metadata": {},
   "outputs": [
    {
     "data": {
      "text/plain": [
       "2"
      ]
     },
     "execution_count": 9,
     "metadata": {},
     "output_type": "execute_result"
    }
   ],
   "source": [
    "getitem_link(four, 1)"
   ]
  },
  {
   "cell_type": "code",
   "execution_count": null,
   "metadata": {},
   "outputs": [],
   "source": [
    "def len_link_iterative(s):\n",
    "    \"\"\"Return the length of a linked list s.\"\"\"\n",
    "    if s == empty:\n",
    "        return 0\n",
    "    return 1 + len_link_iterative(rest(s))\n",
    "\n",
    "def getitem_link_iterative(s, i):\n",
    "    \"\"\"Return the element at index i of linked list s.\"\"\"\n",
    "    if i == 0:\n",
    "        return first(s)\n",
    "    return getitem_link_iterative(s, i - 1)\n"
   ]
  },
  {
   "cell_type": "code",
   "execution_count": null,
   "metadata": {},
   "outputs": [
    {
     "data": {
      "text/plain": [
       "[1, [2, [3, [4, [1, [2, [3, [4, 'empty']]]]]]]]"
      ]
     },
     "execution_count": 10,
     "metadata": {},
     "output_type": "execute_result"
    }
   ],
   "source": [
    "def extend_link(s, t):\n",
    "    \"\"\"Return a list with the elements of s followed by those of t.\"\"\"\n",
    "    assert is_link(s) and is_link(t)\n",
    "    if  s == empty:\n",
    "        return t\n",
    "    else:\n",
    "        return link(first(s), extend_link(rest(s), t))\n",
    "extend_link(four, four)"
   ]
  },
  {
   "cell_type": "code",
   "execution_count": null,
   "metadata": {},
   "outputs": [
    {
     "data": {
      "text/plain": [
       "[1, [4, [9, [16, 'empty']]]]"
      ]
     },
     "execution_count": 11,
     "metadata": {},
     "output_type": "execute_result"
    }
   ],
   "source": [
    "def apply_to_all_link(f, s):\n",
    "    \"\"\"Apply f to each element of s.\"\"\"\n",
    "    assert is_link(s)\n",
    "    if s == empty:\n",
    "        return s\n",
    "    else:\n",
    "        return link(f(first(s)), apply_to_all_link(f, rest(s)))\n",
    "apply_to_all_link(lambda x: x*x, four)"
   ]
  },
  {
   "cell_type": "code",
   "execution_count": null,
   "metadata": {},
   "outputs": [
    {
     "data": {
      "text/plain": [
       "[2, [4, 'empty']]"
      ]
     },
     "execution_count": 13,
     "metadata": {},
     "output_type": "execute_result"
    }
   ],
   "source": [
    "def keep_if_link(f, s):\n",
    "    \"\"\"Return a list with elements of s for which f(e) is true.\"\"\"\n",
    "    assert is_link(s)\n",
    "    if s == empty:\n",
    "        return s\n",
    "    else:\n",
    "        kept = keep_if_link(f, rest(s))\n",
    "        if f(first(s)):\n",
    "            return link(first(s), kept)\n",
    "        else:\n",
    "            return kept\n",
    "keep_if_link(lambda x: x%2 == 0, four)"
   ]
  },
  {
   "cell_type": "code",
   "execution_count": null,
   "metadata": {},
   "outputs": [
    {
     "data": {
      "text/plain": [
       "'1, 2, 3, 4'"
      ]
     },
     "execution_count": 14,
     "metadata": {},
     "output_type": "execute_result"
    }
   ],
   "source": [
    "def join_link(s, separator):\n",
    "    \"\"\"Return a string of all elements in s separated by separator.\"\"\"\n",
    "    if s == empty:\n",
    "        return \"\"\n",
    "    elif rest(s) == empty:\n",
    "        return str(first(s))\n",
    "    else:\n",
    "        return str(first(s)) + separator + join_link(rest(s), separator)\n",
    "join_link(four, \", \")"
   ]
  },
  {
   "cell_type": "code",
   "execution_count": null,
   "metadata": {},
   "outputs": [
    {
     "name": "stdout",
     "output_type": "stream",
     "text": [
      "4 + 2\n",
      "4 + 1 + 1\n",
      "3 + 3\n",
      "3 + 2 + 1\n",
      "3 + 1 + 1 + 1\n",
      "2 + 2 + 2\n",
      "2 + 2 + 1 + 1\n",
      "2 + 1 + 1 + 1 + 1\n",
      "1 + 1 + 1 + 1 + 1 + 1\n"
     ]
    }
   ],
   "source": [
    "def partitions(n, m):\n",
    "    \"\"\"Return a linked list of partitions of n using parts of up to m.\n",
    "    Each partition is represented as a linked list.\n",
    "    \"\"\"\n",
    "    if n == 0:\n",
    "        return link(empty, empty) # A list containing the empty partition\n",
    "    elif n < 0 or m == 0:\n",
    "        return empty\n",
    "    else:\n",
    "        using_m = partitions(n-m, m)\n",
    "        with_m = apply_to_all_link(lambda s: link(m, s), using_m)\n",
    "        without_m = partitions(n, m-1)\n",
    "        return extend_link(with_m, without_m)\n",
    "\n",
    "def print_partitions(n, m):\n",
    "    lists = partitions(n, m)\n",
    "    strings = apply_to_all_link(lambda s: join_link(s, \" + \"), lists)\n",
    "    print(join_link(strings, \"\\n\"))\n",
    "\n",
    "print_partitions(6, 4)"
   ]
  }
 ],
 "metadata": {
  "interpreter": {
   "hash": "0d591c6e422414675974e227c13f5382000c440fedd3c5006ef2be5d887f0ba7"
  },
  "kernelspec": {
   "display_name": "env",
   "language": "python",
   "name": "env"
  },
  "language_info": {
   "codemirror_mode": {
    "name": "ipython",
    "version": 3
   },
   "file_extension": ".py",
   "mimetype": "text/x-python",
   "name": "python",
   "nbconvert_exporter": "python",
   "pygments_lexer": "ipython3",
   "version": "3.9.5"
  },
  "orig_nbformat": 4
 },
 "nbformat": 4,
 "nbformat_minor": 2
}
